{
 "cells": [
  {
   "cell_type": "markdown",
   "id": "ea4fdf8d",
   "metadata": {},
   "source": [
    "# Supermarket Sales Analysis"
   ]
  },
  {
   "cell_type": "code",
   "execution_count": 353,
   "id": "da3718af",
   "metadata": {},
   "outputs": [],
   "source": [
    "#import modules\n",
    "import pandas as pd\n",
    "import numpy as np\n",
    "import seaborn as sns\n",
    "import matplotlib.pyplot as plt\n",
    "%matplotlib inline\n",
    "\n",
    "from sklearn.model_selection import train_test_split\n",
    "from sklearn.preprocessing import StandardScaler\n",
    "from sklearn.metrics import mean_absolute_error, mean_squared_error, r2_score, mean_absolute_percentage_error\n",
    "from sklearn.ensemble import RandomForestRegressor\n",
    "from sklearn.svm import SVR\n",
    "from xgboost import XGBClassifier\n",
    "from sklearn.neighbors import KNeighborsRegressor\n",
    "from sklearn.linear_model import Ridge, Lasso\n",
    "import xgboost as xgb\n"
   ]
  },
  {
   "cell_type": "code",
   "execution_count": 354,
   "id": "89e40e98",
   "metadata": {
    "scrolled": true
   },
   "outputs": [
    {
     "data": {
      "text/html": [
       "<div>\n",
       "<style scoped>\n",
       "    .dataframe tbody tr th:only-of-type {\n",
       "        vertical-align: middle;\n",
       "    }\n",
       "\n",
       "    .dataframe tbody tr th {\n",
       "        vertical-align: top;\n",
       "    }\n",
       "\n",
       "    .dataframe thead th {\n",
       "        text-align: right;\n",
       "    }\n",
       "</style>\n",
       "<table border=\"1\" class=\"dataframe\">\n",
       "  <thead>\n",
       "    <tr style=\"text-align: right;\">\n",
       "      <th></th>\n",
       "      <th>Invoice ID</th>\n",
       "      <th>Branch</th>\n",
       "      <th>City</th>\n",
       "      <th>Customer type</th>\n",
       "      <th>Gender</th>\n",
       "      <th>Product line</th>\n",
       "      <th>Unit price</th>\n",
       "      <th>Quantity</th>\n",
       "      <th>Tax 5%</th>\n",
       "      <th>Total</th>\n",
       "      <th>Date</th>\n",
       "      <th>Time</th>\n",
       "      <th>Payment</th>\n",
       "      <th>cogs</th>\n",
       "      <th>gross margin percentage</th>\n",
       "      <th>gross income</th>\n",
       "      <th>Rating</th>\n",
       "    </tr>\n",
       "  </thead>\n",
       "  <tbody>\n",
       "    <tr>\n",
       "      <th>0</th>\n",
       "      <td>750-67-8428</td>\n",
       "      <td>A</td>\n",
       "      <td>Yangon</td>\n",
       "      <td>Member</td>\n",
       "      <td>Female</td>\n",
       "      <td>Health and beauty</td>\n",
       "      <td>74.69</td>\n",
       "      <td>7</td>\n",
       "      <td>26.1415</td>\n",
       "      <td>548.9715</td>\n",
       "      <td>1/5/2019</td>\n",
       "      <td>13:08</td>\n",
       "      <td>Ewallet</td>\n",
       "      <td>522.83</td>\n",
       "      <td>4.761905</td>\n",
       "      <td>26.1415</td>\n",
       "      <td>9.1</td>\n",
       "    </tr>\n",
       "    <tr>\n",
       "      <th>1</th>\n",
       "      <td>226-31-3081</td>\n",
       "      <td>C</td>\n",
       "      <td>Naypyitaw</td>\n",
       "      <td>Normal</td>\n",
       "      <td>Female</td>\n",
       "      <td>Electronic accessories</td>\n",
       "      <td>15.28</td>\n",
       "      <td>5</td>\n",
       "      <td>3.8200</td>\n",
       "      <td>80.2200</td>\n",
       "      <td>3/8/2019</td>\n",
       "      <td>10:29</td>\n",
       "      <td>Cash</td>\n",
       "      <td>76.40</td>\n",
       "      <td>4.761905</td>\n",
       "      <td>3.8200</td>\n",
       "      <td>9.6</td>\n",
       "    </tr>\n",
       "    <tr>\n",
       "      <th>2</th>\n",
       "      <td>631-41-3108</td>\n",
       "      <td>A</td>\n",
       "      <td>Yangon</td>\n",
       "      <td>Normal</td>\n",
       "      <td>Male</td>\n",
       "      <td>Home and lifestyle</td>\n",
       "      <td>46.33</td>\n",
       "      <td>7</td>\n",
       "      <td>16.2155</td>\n",
       "      <td>340.5255</td>\n",
       "      <td>3/3/2019</td>\n",
       "      <td>13:23</td>\n",
       "      <td>Credit card</td>\n",
       "      <td>324.31</td>\n",
       "      <td>4.761905</td>\n",
       "      <td>16.2155</td>\n",
       "      <td>7.4</td>\n",
       "    </tr>\n",
       "    <tr>\n",
       "      <th>3</th>\n",
       "      <td>123-19-1176</td>\n",
       "      <td>A</td>\n",
       "      <td>Yangon</td>\n",
       "      <td>Member</td>\n",
       "      <td>Male</td>\n",
       "      <td>Health and beauty</td>\n",
       "      <td>58.22</td>\n",
       "      <td>8</td>\n",
       "      <td>23.2880</td>\n",
       "      <td>489.0480</td>\n",
       "      <td>1/27/2019</td>\n",
       "      <td>20:33</td>\n",
       "      <td>Ewallet</td>\n",
       "      <td>465.76</td>\n",
       "      <td>4.761905</td>\n",
       "      <td>23.2880</td>\n",
       "      <td>8.4</td>\n",
       "    </tr>\n",
       "    <tr>\n",
       "      <th>4</th>\n",
       "      <td>373-73-7910</td>\n",
       "      <td>A</td>\n",
       "      <td>Yangon</td>\n",
       "      <td>Normal</td>\n",
       "      <td>Male</td>\n",
       "      <td>Sports and travel</td>\n",
       "      <td>86.31</td>\n",
       "      <td>7</td>\n",
       "      <td>30.2085</td>\n",
       "      <td>634.3785</td>\n",
       "      <td>2/8/2019</td>\n",
       "      <td>10:37</td>\n",
       "      <td>Ewallet</td>\n",
       "      <td>604.17</td>\n",
       "      <td>4.761905</td>\n",
       "      <td>30.2085</td>\n",
       "      <td>5.3</td>\n",
       "    </tr>\n",
       "  </tbody>\n",
       "</table>\n",
       "</div>"
      ],
      "text/plain": [
       "    Invoice ID Branch       City Customer type  Gender  \\\n",
       "0  750-67-8428      A     Yangon        Member  Female   \n",
       "1  226-31-3081      C  Naypyitaw        Normal  Female   \n",
       "2  631-41-3108      A     Yangon        Normal    Male   \n",
       "3  123-19-1176      A     Yangon        Member    Male   \n",
       "4  373-73-7910      A     Yangon        Normal    Male   \n",
       "\n",
       "             Product line  Unit price  Quantity   Tax 5%     Total       Date  \\\n",
       "0       Health and beauty       74.69         7  26.1415  548.9715   1/5/2019   \n",
       "1  Electronic accessories       15.28         5   3.8200   80.2200   3/8/2019   \n",
       "2      Home and lifestyle       46.33         7  16.2155  340.5255   3/3/2019   \n",
       "3       Health and beauty       58.22         8  23.2880  489.0480  1/27/2019   \n",
       "4       Sports and travel       86.31         7  30.2085  634.3785   2/8/2019   \n",
       "\n",
       "    Time      Payment    cogs  gross margin percentage  gross income  Rating  \n",
       "0  13:08      Ewallet  522.83                 4.761905       26.1415     9.1  \n",
       "1  10:29         Cash   76.40                 4.761905        3.8200     9.6  \n",
       "2  13:23  Credit card  324.31                 4.761905       16.2155     7.4  \n",
       "3  20:33      Ewallet  465.76                 4.761905       23.2880     8.4  \n",
       "4  10:37      Ewallet  604.17                 4.761905       30.2085     5.3  "
      ]
     },
     "execution_count": 354,
     "metadata": {},
     "output_type": "execute_result"
    }
   ],
   "source": [
    "#load dataset\n",
    "df = pd.read_csv(\"supermarket_sales.csv\")\n",
    "df.head()"
   ]
  },
  {
   "cell_type": "code",
   "execution_count": 355,
   "id": "397940dc",
   "metadata": {},
   "outputs": [
    {
     "data": {
      "text/plain": [
       "(1000, 17)"
      ]
     },
     "execution_count": 355,
     "metadata": {},
     "output_type": "execute_result"
    }
   ],
   "source": [
    "#dimensions of data in format rows,columns\n",
    "df.shape"
   ]
  },
  {
   "cell_type": "code",
   "execution_count": 356,
   "id": "beee308e",
   "metadata": {},
   "outputs": [
    {
     "data": {
      "text/plain": [
       "17000"
      ]
     },
     "execution_count": 356,
     "metadata": {},
     "output_type": "execute_result"
    }
   ],
   "source": [
    "# Get the size of the DataFrame\n",
    "df.size"
   ]
  },
  {
   "cell_type": "code",
   "execution_count": 357,
   "id": "c1ad405b",
   "metadata": {},
   "outputs": [
    {
     "data": {
      "text/plain": [
       "0"
      ]
     },
     "execution_count": 357,
     "metadata": {},
     "output_type": "execute_result"
    }
   ],
   "source": [
    "# Count the number of columns with at least one missing value\n",
    "df.isnull().any().sum()"
   ]
  },
  {
   "cell_type": "code",
   "execution_count": 358,
   "id": "2ceec897",
   "metadata": {},
   "outputs": [
    {
     "data": {
      "text/plain": [
       "Invoice ID                 0\n",
       "Branch                     0\n",
       "City                       0\n",
       "Customer type              0\n",
       "Gender                     0\n",
       "Product line               0\n",
       "Unit price                 0\n",
       "Quantity                   0\n",
       "Tax 5%                     0\n",
       "Total                      0\n",
       "Date                       0\n",
       "Time                       0\n",
       "Payment                    0\n",
       "cogs                       0\n",
       "gross margin percentage    0\n",
       "gross income               0\n",
       "Rating                     0\n",
       "dtype: int64"
      ]
     },
     "execution_count": 358,
     "metadata": {},
     "output_type": "execute_result"
    }
   ],
   "source": [
    "# It gives us null values\n",
    "df.isnull().sum()"
   ]
  },
  {
   "cell_type": "code",
   "execution_count": 359,
   "id": "3c158fd6",
   "metadata": {},
   "outputs": [
    {
     "data": {
      "text/plain": [
       "0      False\n",
       "1      False\n",
       "2      False\n",
       "3      False\n",
       "4      False\n",
       "       ...  \n",
       "995    False\n",
       "996    False\n",
       "997    False\n",
       "998    False\n",
       "999    False\n",
       "Length: 1000, dtype: bool"
      ]
     },
     "execution_count": 359,
     "metadata": {},
     "output_type": "execute_result"
    }
   ],
   "source": [
    "#The method in pandas is used to identify duplicate rows in a DataFrame\n",
    "df.duplicated()"
   ]
  },
  {
   "cell_type": "code",
   "execution_count": 360,
   "id": "b3eb4b4f",
   "metadata": {},
   "outputs": [
    {
     "data": {
      "text/html": [
       "<div>\n",
       "<style scoped>\n",
       "    .dataframe tbody tr th:only-of-type {\n",
       "        vertical-align: middle;\n",
       "    }\n",
       "\n",
       "    .dataframe tbody tr th {\n",
       "        vertical-align: top;\n",
       "    }\n",
       "\n",
       "    .dataframe thead th {\n",
       "        text-align: right;\n",
       "    }\n",
       "</style>\n",
       "<table border=\"1\" class=\"dataframe\">\n",
       "  <thead>\n",
       "    <tr style=\"text-align: right;\">\n",
       "      <th></th>\n",
       "      <th>Unit price</th>\n",
       "      <th>Quantity</th>\n",
       "      <th>Tax 5%</th>\n",
       "      <th>Total</th>\n",
       "      <th>cogs</th>\n",
       "      <th>gross margin percentage</th>\n",
       "      <th>gross income</th>\n",
       "      <th>Rating</th>\n",
       "    </tr>\n",
       "  </thead>\n",
       "  <tbody>\n",
       "    <tr>\n",
       "      <th>count</th>\n",
       "      <td>1000.000000</td>\n",
       "      <td>1000.000000</td>\n",
       "      <td>1000.000000</td>\n",
       "      <td>1000.000000</td>\n",
       "      <td>1000.00000</td>\n",
       "      <td>1.000000e+03</td>\n",
       "      <td>1000.000000</td>\n",
       "      <td>1000.00000</td>\n",
       "    </tr>\n",
       "    <tr>\n",
       "      <th>mean</th>\n",
       "      <td>55.672130</td>\n",
       "      <td>5.510000</td>\n",
       "      <td>15.379369</td>\n",
       "      <td>322.966749</td>\n",
       "      <td>307.58738</td>\n",
       "      <td>4.761905e+00</td>\n",
       "      <td>15.379369</td>\n",
       "      <td>6.97270</td>\n",
       "    </tr>\n",
       "    <tr>\n",
       "      <th>std</th>\n",
       "      <td>26.494628</td>\n",
       "      <td>2.923431</td>\n",
       "      <td>11.708825</td>\n",
       "      <td>245.885335</td>\n",
       "      <td>234.17651</td>\n",
       "      <td>6.131498e-14</td>\n",
       "      <td>11.708825</td>\n",
       "      <td>1.71858</td>\n",
       "    </tr>\n",
       "    <tr>\n",
       "      <th>min</th>\n",
       "      <td>10.080000</td>\n",
       "      <td>1.000000</td>\n",
       "      <td>0.508500</td>\n",
       "      <td>10.678500</td>\n",
       "      <td>10.17000</td>\n",
       "      <td>4.761905e+00</td>\n",
       "      <td>0.508500</td>\n",
       "      <td>4.00000</td>\n",
       "    </tr>\n",
       "    <tr>\n",
       "      <th>25%</th>\n",
       "      <td>32.875000</td>\n",
       "      <td>3.000000</td>\n",
       "      <td>5.924875</td>\n",
       "      <td>124.422375</td>\n",
       "      <td>118.49750</td>\n",
       "      <td>4.761905e+00</td>\n",
       "      <td>5.924875</td>\n",
       "      <td>5.50000</td>\n",
       "    </tr>\n",
       "    <tr>\n",
       "      <th>50%</th>\n",
       "      <td>55.230000</td>\n",
       "      <td>5.000000</td>\n",
       "      <td>12.088000</td>\n",
       "      <td>253.848000</td>\n",
       "      <td>241.76000</td>\n",
       "      <td>4.761905e+00</td>\n",
       "      <td>12.088000</td>\n",
       "      <td>7.00000</td>\n",
       "    </tr>\n",
       "    <tr>\n",
       "      <th>75%</th>\n",
       "      <td>77.935000</td>\n",
       "      <td>8.000000</td>\n",
       "      <td>22.445250</td>\n",
       "      <td>471.350250</td>\n",
       "      <td>448.90500</td>\n",
       "      <td>4.761905e+00</td>\n",
       "      <td>22.445250</td>\n",
       "      <td>8.50000</td>\n",
       "    </tr>\n",
       "    <tr>\n",
       "      <th>max</th>\n",
       "      <td>99.960000</td>\n",
       "      <td>10.000000</td>\n",
       "      <td>49.650000</td>\n",
       "      <td>1042.650000</td>\n",
       "      <td>993.00000</td>\n",
       "      <td>4.761905e+00</td>\n",
       "      <td>49.650000</td>\n",
       "      <td>10.00000</td>\n",
       "    </tr>\n",
       "  </tbody>\n",
       "</table>\n",
       "</div>"
      ],
      "text/plain": [
       "        Unit price     Quantity       Tax 5%        Total        cogs  \\\n",
       "count  1000.000000  1000.000000  1000.000000  1000.000000  1000.00000   \n",
       "mean     55.672130     5.510000    15.379369   322.966749   307.58738   \n",
       "std      26.494628     2.923431    11.708825   245.885335   234.17651   \n",
       "min      10.080000     1.000000     0.508500    10.678500    10.17000   \n",
       "25%      32.875000     3.000000     5.924875   124.422375   118.49750   \n",
       "50%      55.230000     5.000000    12.088000   253.848000   241.76000   \n",
       "75%      77.935000     8.000000    22.445250   471.350250   448.90500   \n",
       "max      99.960000    10.000000    49.650000  1042.650000   993.00000   \n",
       "\n",
       "       gross margin percentage  gross income      Rating  \n",
       "count             1.000000e+03   1000.000000  1000.00000  \n",
       "mean              4.761905e+00     15.379369     6.97270  \n",
       "std               6.131498e-14     11.708825     1.71858  \n",
       "min               4.761905e+00      0.508500     4.00000  \n",
       "25%               4.761905e+00      5.924875     5.50000  \n",
       "50%               4.761905e+00     12.088000     7.00000  \n",
       "75%               4.761905e+00     22.445250     8.50000  \n",
       "max               4.761905e+00     49.650000    10.00000  "
      ]
     },
     "execution_count": 360,
     "metadata": {},
     "output_type": "execute_result"
    }
   ],
   "source": [
    "# Generate descriptive statistics\n",
    "df.describe()"
   ]
  },
  {
   "cell_type": "code",
   "execution_count": 361,
   "id": "27920f34",
   "metadata": {},
   "outputs": [
    {
     "name": "stdout",
     "output_type": "stream",
     "text": [
      "Unit price                  55.672130\n",
      "Quantity                     5.510000\n",
      "Tax 5%                      15.379369\n",
      "Total                      322.966749\n",
      "cogs                       307.587380\n",
      "gross margin percentage      4.761905\n",
      "gross income                15.379369\n",
      "Rating                       6.972700\n",
      "dtype: float64\n"
     ]
    }
   ],
   "source": [
    "# Calculate the mean of all numeric columns\n",
    "print(df.mean(numeric_only=True))"
   ]
  },
  {
   "cell_type": "code",
   "execution_count": 362,
   "id": "7f619752",
   "metadata": {},
   "outputs": [],
   "source": [
    "# Remove unnecessary columns that don't contribute to sales prediction\n",
    "df.drop(['Invoice ID', 'Date', 'Time', 'gross margin percentage'], axis=1, inplace=True)"
   ]
  },
  {
   "cell_type": "code",
   "execution_count": 363,
   "id": "41282d11",
   "metadata": {},
   "outputs": [],
   "source": [
    "# Encode categorical variables using one-hot encoding\n",
    "df_encoded = pd.get_dummies(df, columns=['Branch', 'City', 'Customer type', 'Gender', 'Product line', 'Payment'], drop_first=False)"
   ]
  },
  {
   "cell_type": "code",
   "execution_count": 364,
   "id": "98fe83be",
   "metadata": {},
   "outputs": [
    {
     "data": {
      "text/plain": [
       "Branch             3\n",
       "City               3\n",
       "Customer type      2\n",
       "Gender             2\n",
       "Product line       6\n",
       "Unit price       943\n",
       "Quantity          10\n",
       "Tax 5%           990\n",
       "Total            990\n",
       "Payment            3\n",
       "cogs             990\n",
       "gross income     990\n",
       "Rating            61\n",
       "dtype: int64"
      ]
     },
     "execution_count": 364,
     "metadata": {},
     "output_type": "execute_result"
    }
   ],
   "source": [
    "df.nunique()"
   ]
  },
  {
   "cell_type": "code",
   "execution_count": 365,
   "id": "b2249cf8",
   "metadata": {},
   "outputs": [
    {
     "data": {
      "text/plain": [
       "array(['Ewallet', 'Cash', 'Credit card'], dtype=object)"
      ]
     },
     "execution_count": 365,
     "metadata": {},
     "output_type": "execute_result"
    }
   ],
   "source": [
    "df['Payment'].unique()"
   ]
  },
  {
   "cell_type": "code",
   "execution_count": 366,
   "id": "f181be6d",
   "metadata": {},
   "outputs": [
    {
     "data": {
      "text/html": [
       "<div>\n",
       "<style scoped>\n",
       "    .dataframe tbody tr th:only-of-type {\n",
       "        vertical-align: middle;\n",
       "    }\n",
       "\n",
       "    .dataframe tbody tr th {\n",
       "        vertical-align: top;\n",
       "    }\n",
       "\n",
       "    .dataframe thead th {\n",
       "        text-align: right;\n",
       "    }\n",
       "</style>\n",
       "<table border=\"1\" class=\"dataframe\">\n",
       "  <thead>\n",
       "    <tr style=\"text-align: right;\">\n",
       "      <th></th>\n",
       "      <th>Unit price</th>\n",
       "      <th>Quantity</th>\n",
       "      <th>Tax 5%</th>\n",
       "      <th>Total</th>\n",
       "      <th>cogs</th>\n",
       "      <th>gross income</th>\n",
       "      <th>Rating</th>\n",
       "      <th>Branch_A</th>\n",
       "      <th>Branch_B</th>\n",
       "      <th>Branch_C</th>\n",
       "      <th>...</th>\n",
       "      <th>Gender_Male</th>\n",
       "      <th>Product line_Electronic accessories</th>\n",
       "      <th>Product line_Fashion accessories</th>\n",
       "      <th>Product line_Food and beverages</th>\n",
       "      <th>Product line_Health and beauty</th>\n",
       "      <th>Product line_Home and lifestyle</th>\n",
       "      <th>Product line_Sports and travel</th>\n",
       "      <th>Payment_Cash</th>\n",
       "      <th>Payment_Credit card</th>\n",
       "      <th>Payment_Ewallet</th>\n",
       "    </tr>\n",
       "  </thead>\n",
       "  <tbody>\n",
       "    <tr>\n",
       "      <th>0</th>\n",
       "      <td>74.69</td>\n",
       "      <td>7</td>\n",
       "      <td>26.1415</td>\n",
       "      <td>548.9715</td>\n",
       "      <td>522.83</td>\n",
       "      <td>26.1415</td>\n",
       "      <td>9.1</td>\n",
       "      <td>1</td>\n",
       "      <td>0</td>\n",
       "      <td>0</td>\n",
       "      <td>...</td>\n",
       "      <td>0</td>\n",
       "      <td>0</td>\n",
       "      <td>0</td>\n",
       "      <td>0</td>\n",
       "      <td>1</td>\n",
       "      <td>0</td>\n",
       "      <td>0</td>\n",
       "      <td>0</td>\n",
       "      <td>0</td>\n",
       "      <td>1</td>\n",
       "    </tr>\n",
       "    <tr>\n",
       "      <th>1</th>\n",
       "      <td>15.28</td>\n",
       "      <td>5</td>\n",
       "      <td>3.8200</td>\n",
       "      <td>80.2200</td>\n",
       "      <td>76.40</td>\n",
       "      <td>3.8200</td>\n",
       "      <td>9.6</td>\n",
       "      <td>0</td>\n",
       "      <td>0</td>\n",
       "      <td>1</td>\n",
       "      <td>...</td>\n",
       "      <td>0</td>\n",
       "      <td>1</td>\n",
       "      <td>0</td>\n",
       "      <td>0</td>\n",
       "      <td>0</td>\n",
       "      <td>0</td>\n",
       "      <td>0</td>\n",
       "      <td>1</td>\n",
       "      <td>0</td>\n",
       "      <td>0</td>\n",
       "    </tr>\n",
       "    <tr>\n",
       "      <th>2</th>\n",
       "      <td>46.33</td>\n",
       "      <td>7</td>\n",
       "      <td>16.2155</td>\n",
       "      <td>340.5255</td>\n",
       "      <td>324.31</td>\n",
       "      <td>16.2155</td>\n",
       "      <td>7.4</td>\n",
       "      <td>1</td>\n",
       "      <td>0</td>\n",
       "      <td>0</td>\n",
       "      <td>...</td>\n",
       "      <td>1</td>\n",
       "      <td>0</td>\n",
       "      <td>0</td>\n",
       "      <td>0</td>\n",
       "      <td>0</td>\n",
       "      <td>1</td>\n",
       "      <td>0</td>\n",
       "      <td>0</td>\n",
       "      <td>1</td>\n",
       "      <td>0</td>\n",
       "    </tr>\n",
       "    <tr>\n",
       "      <th>3</th>\n",
       "      <td>58.22</td>\n",
       "      <td>8</td>\n",
       "      <td>23.2880</td>\n",
       "      <td>489.0480</td>\n",
       "      <td>465.76</td>\n",
       "      <td>23.2880</td>\n",
       "      <td>8.4</td>\n",
       "      <td>1</td>\n",
       "      <td>0</td>\n",
       "      <td>0</td>\n",
       "      <td>...</td>\n",
       "      <td>1</td>\n",
       "      <td>0</td>\n",
       "      <td>0</td>\n",
       "      <td>0</td>\n",
       "      <td>1</td>\n",
       "      <td>0</td>\n",
       "      <td>0</td>\n",
       "      <td>0</td>\n",
       "      <td>0</td>\n",
       "      <td>1</td>\n",
       "    </tr>\n",
       "    <tr>\n",
       "      <th>4</th>\n",
       "      <td>86.31</td>\n",
       "      <td>7</td>\n",
       "      <td>30.2085</td>\n",
       "      <td>634.3785</td>\n",
       "      <td>604.17</td>\n",
       "      <td>30.2085</td>\n",
       "      <td>5.3</td>\n",
       "      <td>1</td>\n",
       "      <td>0</td>\n",
       "      <td>0</td>\n",
       "      <td>...</td>\n",
       "      <td>1</td>\n",
       "      <td>0</td>\n",
       "      <td>0</td>\n",
       "      <td>0</td>\n",
       "      <td>0</td>\n",
       "      <td>0</td>\n",
       "      <td>1</td>\n",
       "      <td>0</td>\n",
       "      <td>0</td>\n",
       "      <td>1</td>\n",
       "    </tr>\n",
       "    <tr>\n",
       "      <th>...</th>\n",
       "      <td>...</td>\n",
       "      <td>...</td>\n",
       "      <td>...</td>\n",
       "      <td>...</td>\n",
       "      <td>...</td>\n",
       "      <td>...</td>\n",
       "      <td>...</td>\n",
       "      <td>...</td>\n",
       "      <td>...</td>\n",
       "      <td>...</td>\n",
       "      <td>...</td>\n",
       "      <td>...</td>\n",
       "      <td>...</td>\n",
       "      <td>...</td>\n",
       "      <td>...</td>\n",
       "      <td>...</td>\n",
       "      <td>...</td>\n",
       "      <td>...</td>\n",
       "      <td>...</td>\n",
       "      <td>...</td>\n",
       "      <td>...</td>\n",
       "    </tr>\n",
       "    <tr>\n",
       "      <th>995</th>\n",
       "      <td>40.35</td>\n",
       "      <td>1</td>\n",
       "      <td>2.0175</td>\n",
       "      <td>42.3675</td>\n",
       "      <td>40.35</td>\n",
       "      <td>2.0175</td>\n",
       "      <td>6.2</td>\n",
       "      <td>0</td>\n",
       "      <td>0</td>\n",
       "      <td>1</td>\n",
       "      <td>...</td>\n",
       "      <td>1</td>\n",
       "      <td>0</td>\n",
       "      <td>0</td>\n",
       "      <td>0</td>\n",
       "      <td>1</td>\n",
       "      <td>0</td>\n",
       "      <td>0</td>\n",
       "      <td>0</td>\n",
       "      <td>0</td>\n",
       "      <td>1</td>\n",
       "    </tr>\n",
       "    <tr>\n",
       "      <th>996</th>\n",
       "      <td>97.38</td>\n",
       "      <td>10</td>\n",
       "      <td>48.6900</td>\n",
       "      <td>1022.4900</td>\n",
       "      <td>973.80</td>\n",
       "      <td>48.6900</td>\n",
       "      <td>4.4</td>\n",
       "      <td>0</td>\n",
       "      <td>1</td>\n",
       "      <td>0</td>\n",
       "      <td>...</td>\n",
       "      <td>0</td>\n",
       "      <td>0</td>\n",
       "      <td>0</td>\n",
       "      <td>0</td>\n",
       "      <td>0</td>\n",
       "      <td>1</td>\n",
       "      <td>0</td>\n",
       "      <td>0</td>\n",
       "      <td>0</td>\n",
       "      <td>1</td>\n",
       "    </tr>\n",
       "    <tr>\n",
       "      <th>997</th>\n",
       "      <td>31.84</td>\n",
       "      <td>1</td>\n",
       "      <td>1.5920</td>\n",
       "      <td>33.4320</td>\n",
       "      <td>31.84</td>\n",
       "      <td>1.5920</td>\n",
       "      <td>7.7</td>\n",
       "      <td>1</td>\n",
       "      <td>0</td>\n",
       "      <td>0</td>\n",
       "      <td>...</td>\n",
       "      <td>1</td>\n",
       "      <td>0</td>\n",
       "      <td>0</td>\n",
       "      <td>1</td>\n",
       "      <td>0</td>\n",
       "      <td>0</td>\n",
       "      <td>0</td>\n",
       "      <td>1</td>\n",
       "      <td>0</td>\n",
       "      <td>0</td>\n",
       "    </tr>\n",
       "    <tr>\n",
       "      <th>998</th>\n",
       "      <td>65.82</td>\n",
       "      <td>1</td>\n",
       "      <td>3.2910</td>\n",
       "      <td>69.1110</td>\n",
       "      <td>65.82</td>\n",
       "      <td>3.2910</td>\n",
       "      <td>4.1</td>\n",
       "      <td>1</td>\n",
       "      <td>0</td>\n",
       "      <td>0</td>\n",
       "      <td>...</td>\n",
       "      <td>1</td>\n",
       "      <td>0</td>\n",
       "      <td>0</td>\n",
       "      <td>0</td>\n",
       "      <td>0</td>\n",
       "      <td>1</td>\n",
       "      <td>0</td>\n",
       "      <td>1</td>\n",
       "      <td>0</td>\n",
       "      <td>0</td>\n",
       "    </tr>\n",
       "    <tr>\n",
       "      <th>999</th>\n",
       "      <td>88.34</td>\n",
       "      <td>7</td>\n",
       "      <td>30.9190</td>\n",
       "      <td>649.2990</td>\n",
       "      <td>618.38</td>\n",
       "      <td>30.9190</td>\n",
       "      <td>6.6</td>\n",
       "      <td>1</td>\n",
       "      <td>0</td>\n",
       "      <td>0</td>\n",
       "      <td>...</td>\n",
       "      <td>0</td>\n",
       "      <td>0</td>\n",
       "      <td>1</td>\n",
       "      <td>0</td>\n",
       "      <td>0</td>\n",
       "      <td>0</td>\n",
       "      <td>0</td>\n",
       "      <td>1</td>\n",
       "      <td>0</td>\n",
       "      <td>0</td>\n",
       "    </tr>\n",
       "  </tbody>\n",
       "</table>\n",
       "<p>1000 rows × 26 columns</p>\n",
       "</div>"
      ],
      "text/plain": [
       "     Unit price  Quantity   Tax 5%      Total    cogs  gross income  Rating  \\\n",
       "0         74.69         7  26.1415   548.9715  522.83       26.1415     9.1   \n",
       "1         15.28         5   3.8200    80.2200   76.40        3.8200     9.6   \n",
       "2         46.33         7  16.2155   340.5255  324.31       16.2155     7.4   \n",
       "3         58.22         8  23.2880   489.0480  465.76       23.2880     8.4   \n",
       "4         86.31         7  30.2085   634.3785  604.17       30.2085     5.3   \n",
       "..          ...       ...      ...        ...     ...           ...     ...   \n",
       "995       40.35         1   2.0175    42.3675   40.35        2.0175     6.2   \n",
       "996       97.38        10  48.6900  1022.4900  973.80       48.6900     4.4   \n",
       "997       31.84         1   1.5920    33.4320   31.84        1.5920     7.7   \n",
       "998       65.82         1   3.2910    69.1110   65.82        3.2910     4.1   \n",
       "999       88.34         7  30.9190   649.2990  618.38       30.9190     6.6   \n",
       "\n",
       "     Branch_A  Branch_B  Branch_C  ...  Gender_Male  \\\n",
       "0           1         0         0  ...            0   \n",
       "1           0         0         1  ...            0   \n",
       "2           1         0         0  ...            1   \n",
       "3           1         0         0  ...            1   \n",
       "4           1         0         0  ...            1   \n",
       "..        ...       ...       ...  ...          ...   \n",
       "995         0         0         1  ...            1   \n",
       "996         0         1         0  ...            0   \n",
       "997         1         0         0  ...            1   \n",
       "998         1         0         0  ...            1   \n",
       "999         1         0         0  ...            0   \n",
       "\n",
       "     Product line_Electronic accessories  Product line_Fashion accessories  \\\n",
       "0                                      0                                 0   \n",
       "1                                      1                                 0   \n",
       "2                                      0                                 0   \n",
       "3                                      0                                 0   \n",
       "4                                      0                                 0   \n",
       "..                                   ...                               ...   \n",
       "995                                    0                                 0   \n",
       "996                                    0                                 0   \n",
       "997                                    0                                 0   \n",
       "998                                    0                                 0   \n",
       "999                                    0                                 1   \n",
       "\n",
       "     Product line_Food and beverages  Product line_Health and beauty  \\\n",
       "0                                  0                               1   \n",
       "1                                  0                               0   \n",
       "2                                  0                               0   \n",
       "3                                  0                               1   \n",
       "4                                  0                               0   \n",
       "..                               ...                             ...   \n",
       "995                                0                               1   \n",
       "996                                0                               0   \n",
       "997                                1                               0   \n",
       "998                                0                               0   \n",
       "999                                0                               0   \n",
       "\n",
       "     Product line_Home and lifestyle  Product line_Sports and travel  \\\n",
       "0                                  0                               0   \n",
       "1                                  0                               0   \n",
       "2                                  1                               0   \n",
       "3                                  0                               0   \n",
       "4                                  0                               1   \n",
       "..                               ...                             ...   \n",
       "995                                0                               0   \n",
       "996                                1                               0   \n",
       "997                                0                               0   \n",
       "998                                1                               0   \n",
       "999                                0                               0   \n",
       "\n",
       "     Payment_Cash  Payment_Credit card  Payment_Ewallet  \n",
       "0               0                    0                1  \n",
       "1               1                    0                0  \n",
       "2               0                    1                0  \n",
       "3               0                    0                1  \n",
       "4               0                    0                1  \n",
       "..            ...                  ...              ...  \n",
       "995             0                    0                1  \n",
       "996             0                    0                1  \n",
       "997             1                    0                0  \n",
       "998             1                    0                0  \n",
       "999             1                    0                0  \n",
       "\n",
       "[1000 rows x 26 columns]"
      ]
     },
     "execution_count": 366,
     "metadata": {},
     "output_type": "execute_result"
    }
   ],
   "source": [
    "df_encoded"
   ]
  },
  {
   "cell_type": "code",
   "execution_count": 367,
   "id": "05f3d71c",
   "metadata": {},
   "outputs": [
    {
     "data": {
      "text/plain": [
       "Index(['Unit price', 'Quantity', 'Tax 5%', 'Total', 'cogs', 'gross income',\n",
       "       'Rating', 'Branch_A', 'Branch_B', 'Branch_C', 'City_Mandalay',\n",
       "       'City_Naypyitaw', 'City_Yangon', 'Customer type_Member',\n",
       "       'Customer type_Normal', 'Gender_Female', 'Gender_Male',\n",
       "       'Product line_Electronic accessories',\n",
       "       'Product line_Fashion accessories', 'Product line_Food and beverages',\n",
       "       'Product line_Health and beauty', 'Product line_Home and lifestyle',\n",
       "       'Product line_Sports and travel', 'Payment_Cash', 'Payment_Credit card',\n",
       "       'Payment_Ewallet'],\n",
       "      dtype='object')"
      ]
     },
     "execution_count": 367,
     "metadata": {},
     "output_type": "execute_result"
    }
   ],
   "source": [
    "df_encoded.columns"
   ]
  },
  {
   "cell_type": "code",
   "execution_count": 368,
   "id": "64707d61",
   "metadata": {},
   "outputs": [
    {
     "data": {
      "image/png": "[encoded data removed]",
      "text/plain": [
       "<Figure size 640x480 with 2 Axes>"
      ]
     },
     "metadata": {},
     "output_type": "display_data"
    },
    {
     "name": "stdout",
     "output_type": "stream",
     "text": [
      "Unit price       55.672130\n",
      "Quantity          5.510000\n",
      "Tax 5%           15.379369\n",
      "Total           322.966749\n",
      "cogs            307.587380\n",
      "gross income     15.379369\n",
      "Rating            6.972700\n",
      "dtype: float64\n"
     ]
    },
    {
     "name": "stderr",
     "output_type": "stream",
     "text": [
      "/var/folders/n1/bp929_sx74q65yzn_wfsq_pc0000gn/T/ipykernel_952/3987361071.py:9: FutureWarning: Dropping of nuisance columns in DataFrame reductions (with 'numeric_only=None') is deprecated; in a future version this will raise TypeError.  Select only valid columns before calling the reduction.\n",
      "  means = df.mean()\n"
     ]
    }
   ],
   "source": [
    "# Calculate the correlation matrix\n",
    "corrMatrix = df.corr()\n",
    "\n",
    "# Display the heatmap\n",
    "sns.heatmap(corrMatrix, annot=True)\n",
    "plt.show()\n",
    "\n",
    "# If you want to calculate means, you can do something like this\n",
    "means = df.mean()\n",
    "print(means)"
   ]
  },
  {
   "cell_type": "code",
   "execution_count": 369,
   "id": "44cac804",
   "metadata": {},
   "outputs": [
    {
     "name": "stdout",
     "output_type": "stream",
     "text": [
      "Feature 'Branch' has '3' unique values\n",
      "Feature 'City' has '3' unique values\n",
      "Feature 'Customer type' has '2' unique values\n",
      "Feature 'Gender' has '2' unique values\n",
      "Feature 'Product line' has '6' unique values\n",
      "Feature 'Unit price' has '943' unique values\n",
      "Feature 'Quantity' has '10' unique values\n",
      "Feature 'Tax 5%' has '990' unique values\n",
      "Feature 'Total' has '990' unique values\n",
      "Feature 'Payment' has '3' unique values\n",
      "Feature 'cogs' has '990' unique values\n",
      "Feature 'gross income' has '990' unique values\n",
      "Feature 'Rating' has '61' unique values\n"
     ]
    }
   ],
   "source": [
    "#the number of unique values for each feature (column) in your DataFrame\n",
    "for column_name in df.columns:\n",
    "    unique_values = len(df[column_name].unique())\n",
    "    print(f\"Feature '{column_name}' has '{unique_values}' unique values\")"
   ]
  },
  {
   "cell_type": "code",
   "execution_count": 370,
   "id": "33dfacdc",
   "metadata": {},
   "outputs": [
    {
     "data": {
      "text/plain": [
       "array(['Yangon', 'Naypyitaw', 'Mandalay'], dtype=object)"
      ]
     },
     "execution_count": 370,
     "metadata": {},
     "output_type": "execute_result"
    }
   ],
   "source": [
    "# Get unique city names\n",
    "df[\"City\"].unique()"
   ]
  },
  {
   "cell_type": "code",
   "execution_count": 371,
   "id": "eeb98efe",
   "metadata": {},
   "outputs": [
    {
     "data": {
      "text/plain": [
       "Yangon       340\n",
       "Mandalay     332\n",
       "Naypyitaw    328\n",
       "Name: City, dtype: int64"
      ]
     },
     "execution_count": 371,
     "metadata": {},
     "output_type": "execute_result"
    }
   ],
   "source": [
    "# Get the count of occurrences for each city\n",
    "df['City'].value_counts()"
   ]
  },
  {
   "cell_type": "code",
   "execution_count": 372,
   "id": "1311ee17",
   "metadata": {},
   "outputs": [
    {
     "data": {
      "text/plain": [
       "City\n",
       "Naypyitaw    110568.7065\n",
       "Yangon       106200.3705\n",
       "Mandalay     106197.6720\n",
       "Name: Total, dtype: float64"
      ]
     },
     "execution_count": 372,
     "metadata": {},
     "output_type": "execute_result"
    }
   ],
   "source": [
    "# Group by 'City' and sum the 'Total' values for each group\n",
    "df.groupby('City')\n",
    "df_sales=df.groupby(\"City\").sum()\n",
    "# Sort the DataFrame by the 'Total' column in descending order\n",
    "df_sales['Total'].sort_values(ascending=False)"
   ]
  },
  {
   "cell_type": "code",
   "execution_count": 373,
   "id": "74aaa8ff",
   "metadata": {},
   "outputs": [
    {
     "data": {
      "text/plain": [
       "Unit price       18557.376667\n",
       "Quantity          1836.666667\n",
       "Tax 5%            5126.456333\n",
       "Total           107655.583000\n",
       "cogs            102529.126667\n",
       "gross income      5126.456333\n",
       "Rating            2324.233333\n",
       "dtype: float64"
      ]
     },
     "execution_count": 373,
     "metadata": {},
     "output_type": "execute_result"
    }
   ],
   "source": [
    "# Calculate the mean of each column in the df_sales DataFrame\n",
    "df_sales.mean()"
   ]
  },
  {
   "cell_type": "code",
   "execution_count": 374,
   "id": "3f326723",
   "metadata": {},
   "outputs": [
    {
     "data": {
      "text/plain": [
       "City\n",
       "Yangon       1859\n",
       "Naypyitaw    1831\n",
       "Mandalay     1820\n",
       "Name: Quantity, dtype: int64"
      ]
     },
     "execution_count": 374,
     "metadata": {},
     "output_type": "execute_result"
    }
   ],
   "source": [
    "# Group by 'City' and sum the 'Quantity' values for each group\n",
    "df_quantity=df.groupby(\"City\").sum()\n",
    "\n",
    "# Sort the DataFrame by the 'Quantity' column in descending order\n",
    "df_quantity['Quantity'].sort_values(ascending=False)"
   ]
  },
  {
   "cell_type": "code",
   "execution_count": 375,
   "id": "7e57a68b",
   "metadata": {},
   "outputs": [
    {
     "data": {
      "text/plain": [
       "City\n",
       "Yangon       2389.2\n",
       "Naypyitaw    2319.9\n",
       "Mandalay     2263.6\n",
       "Name: Rating, dtype: float64"
      ]
     },
     "execution_count": 375,
     "metadata": {},
     "output_type": "execute_result"
    }
   ],
   "source": [
    "df_rating=df.groupby(\"City\").sum()\n",
    "df_rating['Rating'].sort_values(ascending=False)"
   ]
  },
  {
   "cell_type": "code",
   "execution_count": 376,
   "id": "2324268a",
   "metadata": {},
   "outputs": [
    {
     "data": {
      "text/plain": [
       "array(['Member', 'Normal'], dtype=object)"
      ]
     },
     "execution_count": 376,
     "metadata": {},
     "output_type": "execute_result"
    }
   ],
   "source": [
    "df[\"Customer type\"].unique()"
   ]
  },
  {
   "cell_type": "code",
   "execution_count": 377,
   "id": "a3294d69",
   "metadata": {},
   "outputs": [
    {
     "data": {
      "text/plain": [
       "Customer type\n",
       "Member    501\n",
       "Normal    499\n",
       "dtype: int64"
      ]
     },
     "execution_count": 377,
     "metadata": {},
     "output_type": "execute_result"
    }
   ],
   "source": [
    "df.groupby('Customer type').size()"
   ]
  },
  {
   "cell_type": "code",
   "execution_count": 378,
   "id": "6216cb1f",
   "metadata": {},
   "outputs": [
    {
     "data": {
      "text/plain": [
       "Gender\n",
       "Female    501\n",
       "Male      499\n",
       "dtype: int64"
      ]
     },
     "execution_count": 378,
     "metadata": {},
     "output_type": "execute_result"
    }
   ],
   "source": [
    "df.groupby('Gender').size()"
   ]
  },
  {
   "cell_type": "code",
   "execution_count": 379,
   "id": "4a1a654b",
   "metadata": {},
   "outputs": [
    {
     "data": {
      "text/plain": [
       "array(['Ewallet', 'Cash', 'Credit card'], dtype=object)"
      ]
     },
     "execution_count": 379,
     "metadata": {},
     "output_type": "execute_result"
    }
   ],
   "source": [
    "df[\"Payment\"].unique()"
   ]
  },
  {
   "cell_type": "code",
   "execution_count": 380,
   "id": "e3ba0c04",
   "metadata": {},
   "outputs": [
    {
     "data": {
      "text/plain": [
       "Payment\n",
       "Cash           344\n",
       "Credit card    311\n",
       "Ewallet        345\n",
       "dtype: int64"
      ]
     },
     "execution_count": 380,
     "metadata": {},
     "output_type": "execute_result"
    }
   ],
   "source": [
    "df.groupby('Payment').size()"
   ]
  },
  {
   "cell_type": "code",
   "execution_count": 381,
   "id": "e7316d06",
   "metadata": {},
   "outputs": [
    {
     "data": {
      "text/plain": [
       "array(['Health and beauty', 'Electronic accessories',\n",
       "       'Home and lifestyle', 'Sports and travel', 'Food and beverages',\n",
       "       'Fashion accessories'], dtype=object)"
      ]
     },
     "execution_count": 381,
     "metadata": {},
     "output_type": "execute_result"
    }
   ],
   "source": [
    " df[\"Product line\"].unique()"
   ]
  },
  {
   "cell_type": "code",
   "execution_count": 382,
   "id": "c7eb18b1",
   "metadata": {},
   "outputs": [
    {
     "data": {
      "text/plain": [
       "Product line\n",
       "Food and beverages        56144.8440\n",
       "Sports and travel         55122.8265\n",
       "Electronic accessories    54337.5315\n",
       "Fashion accessories       54305.8950\n",
       "Home and lifestyle        53861.9130\n",
       "Health and beauty         49193.7390\n",
       "Name: Total, dtype: float64"
      ]
     },
     "execution_count": 382,
     "metadata": {},
     "output_type": "execute_result"
    }
   ],
   "source": [
    "product=df.groupby(\"Product line\").sum()\n",
    "product[\"Total\"].sort_values(ascending=False)"
   ]
  },
  {
   "cell_type": "code",
   "execution_count": 383,
   "id": "8672a100",
   "metadata": {},
   "outputs": [
    {
     "data": {
      "text/plain": [
       "Product line\n",
       "Electronic accessories    971\n",
       "Food and beverages        952\n",
       "Sports and travel         920\n",
       "Home and lifestyle        911\n",
       "Fashion accessories       902\n",
       "Health and beauty         854\n",
       "Name: Quantity, dtype: int64"
      ]
     },
     "execution_count": 383,
     "metadata": {},
     "output_type": "execute_result"
    }
   ],
   "source": [
    "product[\"Quantity\"].sort_values(ascending=False)"
   ]
  },
  {
   "cell_type": "code",
   "execution_count": 384,
   "id": "3ed8f98f",
   "metadata": {},
   "outputs": [
    {
     "data": {
      "text/plain": [
       "Product line\n",
       "Food and beverages        2673.5640\n",
       "Sports and travel         2624.8965\n",
       "Electronic accessories    2587.5015\n",
       "Fashion accessories       2585.9950\n",
       "Home and lifestyle        2564.8530\n",
       "Health and beauty         2342.5590\n",
       "Name: gross income, dtype: float64"
      ]
     },
     "execution_count": 384,
     "metadata": {},
     "output_type": "execute_result"
    }
   ],
   "source": [
    "product[\"gross income\"].sort_values(ascending=False)"
   ]
  },
  {
   "cell_type": "code",
   "execution_count": 385,
   "id": "3ef8c783",
   "metadata": {},
   "outputs": [
    {
     "data": {
      "text/plain": [
       "array([ 9.1,  9.6,  7.4,  8.4,  5.3,  4.1,  5.8,  8. ,  7.2,  5.9,  4.5,\n",
       "        6.8,  7.1,  8.2,  5.7,  4.6,  6.9,  8.6,  4.4,  4.8,  5.1,  9.9,\n",
       "        6. ,  8.5,  6.7,  7.7,  7.5,  7. ,  4.7,  7.6,  7.9,  6.3,  5.6,\n",
       "        9.5,  8.1,  6.5,  6.1,  6.6,  5.4,  9.3, 10. ,  6.4,  4.3,  4. ,\n",
       "        8.7,  9.4,  5.5,  8.3,  7.3,  4.9,  4.2,  9.2,  7.8,  5.2,  9. ,\n",
       "        8.8,  6.2,  9.8,  9.7,  5. ,  8.9])"
      ]
     },
     "execution_count": 385,
     "metadata": {},
     "output_type": "execute_result"
    }
   ],
   "source": [
    "df[\"Rating\"].unique()"
   ]
  },
  {
   "cell_type": "code",
   "execution_count": 386,
   "id": "dfe50e8f",
   "metadata": {},
   "outputs": [
    {
     "data": {
      "text/plain": [
       "6.0     26\n",
       "6.6     24\n",
       "4.2     22\n",
       "9.5     22\n",
       "6.5     21\n",
       "        ..\n",
       "4.0     11\n",
       "5.3     11\n",
       "8.3     11\n",
       "4.6      8\n",
       "10.0     5\n",
       "Name: Rating, Length: 61, dtype: int64"
      ]
     },
     "execution_count": 386,
     "metadata": {},
     "output_type": "execute_result"
    }
   ],
   "source": [
    "df['Rating'].value_counts()"
   ]
  },
  {
   "cell_type": "code",
   "execution_count": 387,
   "id": "c5e3642a",
   "metadata": {},
   "outputs": [
    {
     "data": {
      "text/plain": [
       "Product line\n",
       "Food and beverages        7.30\n",
       "Health and beauty         7.20\n",
       "Home and lifestyle        7.00\n",
       "Fashion accessories       6.95\n",
       "Electronic accessories    6.70\n",
       "Sports and travel         6.70\n",
       "Name: Rating, dtype: float64"
      ]
     },
     "execution_count": 387,
     "metadata": {},
     "output_type": "execute_result"
    }
   ],
   "source": [
    "# Calculate the median rating for each product line and sort in descending order\n",
    "df['Rating'].groupby(df['Product line']).median().sort_values(ascending=False)"
   ]
  },
  {
   "cell_type": "code",
   "execution_count": 388,
   "id": "a5452ef9",
   "metadata": {},
   "outputs": [],
   "source": [
    "# Get specific groups\n",
    "gb=df.groupby('City')\n",
    "yangon_df=gb.get_group(\"Yangon\")\n",
    "Naypyitaw_df=gb.get_group(\"Naypyitaw\")\n",
    "Mandalay_df=gb.get_group(\"Mandalay\")"
   ]
  },
  {
   "cell_type": "code",
   "execution_count": 389,
   "id": "8c3fd07f",
   "metadata": {},
   "outputs": [
    {
     "data": {
      "text/plain": [
       "Customer type\n",
       "Member    167\n",
       "Normal    173\n",
       "dtype: int64"
      ]
     },
     "execution_count": 389,
     "metadata": {},
     "output_type": "execute_result"
    }
   ],
   "source": [
    "yangon_df.groupby('Customer type').size()"
   ]
  },
  {
   "cell_type": "code",
   "execution_count": 390,
   "id": "91b9233a",
   "metadata": {},
   "outputs": [
    {
     "data": {
      "text/plain": [
       "Gender\n",
       "Female    161\n",
       "Male      179\n",
       "dtype: int64"
      ]
     },
     "execution_count": 390,
     "metadata": {},
     "output_type": "execute_result"
    }
   ],
   "source": [
    "yangon_df.groupby('Gender').size()"
   ]
  },
  {
   "cell_type": "code",
   "execution_count": 391,
   "id": "33b6e0d9",
   "metadata": {},
   "outputs": [
    {
     "data": {
      "text/plain": [
       "Customer type  Gender\n",
       "Member         Female    80\n",
       "               Male      87\n",
       "Normal         Female    81\n",
       "               Male      92\n",
       "dtype: int64"
      ]
     },
     "execution_count": 391,
     "metadata": {},
     "output_type": "execute_result"
    }
   ],
   "source": [
    "yangon_df.groupby(['Customer type', 'Gender']).size()"
   ]
  },
  {
   "cell_type": "code",
   "execution_count": 392,
   "id": "bde02b46",
   "metadata": {},
   "outputs": [
    {
     "data": {
      "text/plain": [
       "Payment\n",
       "Ewallet        126\n",
       "Cash           110\n",
       "Credit card    104\n",
       "dtype: int64"
      ]
     },
     "execution_count": 392,
     "metadata": {},
     "output_type": "execute_result"
    }
   ],
   "source": [
    "yangon_df.groupby('Payment').size().sort_values(ascending=False)"
   ]
  },
  {
   "cell_type": "code",
   "execution_count": 393,
   "id": "0eb070b8",
   "metadata": {},
   "outputs": [
    {
     "data": {
      "text/plain": [
       "Product line\n",
       "Home and lifestyle        22417.1955\n",
       "Sports and travel         19372.6995\n",
       "Electronic accessories    18317.1135\n",
       "Food and beverages        17163.1005\n",
       "Fashion accessories       16332.5085\n",
       "Health and beauty         12597.7530\n",
       "Name: Total, dtype: float64"
      ]
     },
     "execution_count": 393,
     "metadata": {},
     "output_type": "execute_result"
    }
   ],
   "source": [
    "yangon_df['Total'].groupby(yangon_df['Product line']).sum().sort_values(ascending=False)"
   ]
  },
  {
   "cell_type": "code",
   "execution_count": 394,
   "id": "ec79c2ab",
   "metadata": {},
   "outputs": [
    {
     "data": {
      "text/plain": [
       "Product line\n",
       "Home and lifestyle        371\n",
       "Sports and travel         333\n",
       "Electronic accessories    322\n",
       "Food and beverages        313\n",
       "Fashion accessories       263\n",
       "Health and beauty         257\n",
       "Name: Quantity, dtype: int64"
      ]
     },
     "execution_count": 394,
     "metadata": {},
     "output_type": "execute_result"
    }
   ],
   "source": [
    "yangon_df['Quantity'].groupby(yangon_df['Product line']).sum().sort_values(ascending=False)"
   ]
  },
  {
   "cell_type": "code",
   "execution_count": 395,
   "id": "4e24d18e",
   "metadata": {},
   "outputs": [
    {
     "data": {
      "text/plain": [
       "Gender  Customer type  Product line          \n",
       "Male    Member         Electronic accessories    19\n",
       "                       Food and beverages        19\n",
       "        Normal         Sports and travel         19\n",
       "        Member         Home and lifestyle        18\n",
       "Female  Member         Sports and travel         18\n",
       "        Normal         Electronic accessories    16\n",
       "                       Fashion accessories       16\n",
       "                       Home and lifestyle        16\n",
       "Male    Normal         Health and beauty         16\n",
       "                       Food and beverages        16\n",
       "Female  Member         Home and lifestyle        16\n",
       "Male    Normal         Home and lifestyle        15\n",
       "Female  Normal         Food and beverages        13\n",
       "Male    Normal         Fashion accessories       13\n",
       "                       Electronic accessories    13\n",
       "Female  Member         Health and beauty         12\n",
       "                       Electronic accessories    12\n",
       "                       Fashion accessories       12\n",
       "Male    Member         Sports and travel         11\n",
       "Female  Normal         Sports and travel         11\n",
       "Male    Member         Health and beauty         10\n",
       "Female  Member         Food and beverages        10\n",
       "Male    Member         Fashion accessories       10\n",
       "Female  Normal         Health and beauty          9\n",
       "dtype: int64"
      ]
     },
     "execution_count": 395,
     "metadata": {},
     "output_type": "execute_result"
    }
   ],
   "source": [
    "yangon_df.groupby(['Gender', 'Customer type', 'Product line']).size().sort_values(ascending=False)"
   ]
  },
  {
   "cell_type": "code",
   "execution_count": 396,
   "id": "88290ac3",
   "metadata": {},
   "outputs": [
    {
     "data": {
      "text/plain": [
       "4.2     11\n",
       "6.6     11\n",
       "7.4      9\n",
       "9.1      8\n",
       "6.0      8\n",
       "        ..\n",
       "8.1      3\n",
       "5.3      2\n",
       "6.3      2\n",
       "4.0      2\n",
       "10.0     1\n",
       "Name: Rating, Length: 61, dtype: int64"
      ]
     },
     "execution_count": 396,
     "metadata": {},
     "output_type": "execute_result"
    }
   ],
   "source": [
    "yangon_df['Rating'].value_counts()"
   ]
  },
  {
   "cell_type": "code",
   "execution_count": 397,
   "id": "1330aa85",
   "metadata": {},
   "outputs": [
    {
     "data": {
      "text/plain": [
       "Product line\n",
       "Food and beverages        7.45\n",
       "Sports and travel         7.40\n",
       "Fashion accessories       7.20\n",
       "Home and lifestyle        7.00\n",
       "Electronic accessories    6.80\n",
       "Health and beauty         6.80\n",
       "Name: Rating, dtype: float64"
      ]
     },
     "execution_count": 397,
     "metadata": {},
     "output_type": "execute_result"
    }
   ],
   "source": [
    "yangon_df['Rating'].groupby(yangon_df['Product line']).median().sort_values(ascending=False)"
   ]
  },
  {
   "cell_type": "markdown",
   "id": "1e02286b",
   "metadata": {},
   "source": [
    "### Model Building"
   ]
  },
  {
   "cell_type": "markdown",
   "id": "8a1dd205",
   "metadata": {},
   "source": [
    "##### Split Data into Features and Target\n"
   ]
  },
  {
   "cell_type": "code",
   "execution_count": 398,
   "id": "d7487cff",
   "metadata": {},
   "outputs": [],
   "source": [
    "# Split the dataset into features (X) and the target variable (y)\n",
    "X = df_encoded.drop('Total', axis=1)\n",
    "y = df_encoded['Total']"
   ]
  },
  {
   "cell_type": "code",
   "execution_count": 399,
   "id": "2a2ec211",
   "metadata": {},
   "outputs": [
    {
     "data": {
      "text/plain": [
       "Unit price                             943\n",
       "Quantity                                10\n",
       "Tax 5%                                 990\n",
       "cogs                                   990\n",
       "gross income                           990\n",
       "Rating                                  61\n",
       "Branch_A                                 2\n",
       "Branch_B                                 2\n",
       "Branch_C                                 2\n",
       "City_Mandalay                            2\n",
       "City_Naypyitaw                           2\n",
       "City_Yangon                              2\n",
       "Customer type_Member                     2\n",
       "Customer type_Normal                     2\n",
       "Gender_Female                            2\n",
       "Gender_Male                              2\n",
       "Product line_Electronic accessories      2\n",
       "Product line_Fashion accessories         2\n",
       "Product line_Food and beverages          2\n",
       "Product line_Health and beauty           2\n",
       "Product line_Home and lifestyle          2\n",
       "Product line_Sports and travel           2\n",
       "Payment_Cash                             2\n",
       "Payment_Credit card                      2\n",
       "Payment_Ewallet                          2\n",
       "dtype: int64"
      ]
     },
     "execution_count": 399,
     "metadata": {},
     "output_type": "execute_result"
    }
   ],
   "source": [
    "X.nunique()"
   ]
  },
  {
   "cell_type": "code",
   "execution_count": 400,
   "id": "a27c9a2f",
   "metadata": {},
   "outputs": [
    {
     "data": {
      "text/plain": [
       "0       548.9715\n",
       "1        80.2200\n",
       "2       340.5255\n",
       "3       489.0480\n",
       "4       634.3785\n",
       "         ...    \n",
       "995      42.3675\n",
       "996    1022.4900\n",
       "997      33.4320\n",
       "998      69.1110\n",
       "999     649.2990\n",
       "Name: Total, Length: 1000, dtype: float64"
      ]
     },
     "execution_count": 400,
     "metadata": {},
     "output_type": "execute_result"
    }
   ],
   "source": [
    "y"
   ]
  },
  {
   "cell_type": "markdown",
   "id": "a05aa7ed",
   "metadata": {},
   "source": [
    "### Standardize Numerical Features"
   ]
  },
  {
   "cell_type": "code",
   "execution_count": 401,
   "id": "61ae6ef8",
   "metadata": {},
   "outputs": [],
   "source": [
    "# Standardize numerical features to have mean=0 and standard deviation=1\n",
    "scaler = StandardScaler()\n",
    "X_scaled = scaler.fit_transform(X)"
   ]
  },
  {
   "cell_type": "code",
   "execution_count": 402,
   "id": "2fe9ab13",
   "metadata": {},
   "outputs": [],
   "source": [
    "# Split the data into training and testing sets (e.g., 80% training, 20% testing)\n",
    "X_train, X_test, y_train, y_test = train_test_split(X_scaled, y, test_size=0.2, random_state=42)"
   ]
  },
  {
   "cell_type": "markdown",
   "id": "efda5f96",
   "metadata": {},
   "source": [
    "## Linear Regression"
   ]
  },
  {
   "cell_type": "code",
   "execution_count": 403,
   "id": "8dc4d5ed",
   "metadata": {},
   "outputs": [],
   "source": [
    "# Import necessary libraries\n",
    "from sklearn import linear_model\n",
    "from sklearn import metrics"
   ]
  },
  {
   "cell_type": "code",
   "execution_count": 404,
   "id": "7ccde226",
   "metadata": {},
   "outputs": [],
   "source": [
    "li_model = linear_model.LinearRegression()\n",
    "li_model.fit(X_train, y_train)\n",
    "y_pred =li_model.predict(X_test)"
   ]
  },
  {
   "cell_type": "code",
   "execution_count": 405,
   "id": "096dddb9",
   "metadata": {},
   "outputs": [
    {
     "name": "stdout",
     "output_type": "stream",
     "text": [
      "Mean Absolute Error: 3.1084468332664984e-13\n",
      "Mean Squared Error: 1.4154531222380615e-25\n",
      "Root Mean Squared Error: 3.762250818643092e-13\n",
      "r2_score: 1.0\n"
     ]
    }
   ],
   "source": [
    "print('Mean Absolute Error:', metrics.mean_absolute_error(y_test, y_pred))\n",
    "print('Mean Squared Error:', metrics.mean_squared_error(y_test, y_pred))\n",
    "print('Root Mean Squared Error:', np.sqrt(metrics.mean_squared_error(y_test, y_pred)))\n",
    "print('r2_score:',r2_score(y_test,y_pred))"
   ]
  },
  {
   "cell_type": "code",
   "execution_count": 406,
   "id": "79f3e738",
   "metadata": {},
   "outputs": [
    {
     "data": {
      "text/html": [
       "<div>\n",
       "<style scoped>\n",
       "    .dataframe tbody tr th:only-of-type {\n",
       "        vertical-align: middle;\n",
       "    }\n",
       "\n",
       "    .dataframe tbody tr th {\n",
       "        vertical-align: top;\n",
       "    }\n",
       "\n",
       "    .dataframe thead th {\n",
       "        text-align: right;\n",
       "    }\n",
       "</style>\n",
       "<table border=\"1\" class=\"dataframe\">\n",
       "  <thead>\n",
       "    <tr style=\"text-align: right;\">\n",
       "      <th></th>\n",
       "      <th>Actual Value</th>\n",
       "      <th>Predicted Value</th>\n",
       "    </tr>\n",
       "  </thead>\n",
       "  <tbody>\n",
       "    <tr>\n",
       "      <th>521</th>\n",
       "      <td>523.9710</td>\n",
       "      <td>523.9710</td>\n",
       "    </tr>\n",
       "    <tr>\n",
       "      <th>737</th>\n",
       "      <td>616.9800</td>\n",
       "      <td>616.9800</td>\n",
       "    </tr>\n",
       "    <tr>\n",
       "      <th>740</th>\n",
       "      <td>408.7335</td>\n",
       "      <td>408.7335</td>\n",
       "    </tr>\n",
       "    <tr>\n",
       "      <th>660</th>\n",
       "      <td>135.3555</td>\n",
       "      <td>135.3555</td>\n",
       "    </tr>\n",
       "    <tr>\n",
       "      <th>411</th>\n",
       "      <td>45.9270</td>\n",
       "      <td>45.9270</td>\n",
       "    </tr>\n",
       "    <tr>\n",
       "      <th>678</th>\n",
       "      <td>618.9750</td>\n",
       "      <td>618.9750</td>\n",
       "    </tr>\n",
       "    <tr>\n",
       "      <th>626</th>\n",
       "      <td>127.8270</td>\n",
       "      <td>127.8270</td>\n",
       "    </tr>\n",
       "    <tr>\n",
       "      <th>513</th>\n",
       "      <td>731.6925</td>\n",
       "      <td>731.6925</td>\n",
       "    </tr>\n",
       "    <tr>\n",
       "      <th>859</th>\n",
       "      <td>450.1035</td>\n",
       "      <td>450.1035</td>\n",
       "    </tr>\n",
       "    <tr>\n",
       "      <th>136</th>\n",
       "      <td>138.1275</td>\n",
       "      <td>138.1275</td>\n",
       "    </tr>\n",
       "  </tbody>\n",
       "</table>\n",
       "</div>"
      ],
      "text/plain": [
       "     Actual Value  Predicted Value\n",
       "521      523.9710         523.9710\n",
       "737      616.9800         616.9800\n",
       "740      408.7335         408.7335\n",
       "660      135.3555         135.3555\n",
       "411       45.9270          45.9270\n",
       "678      618.9750         618.9750\n",
       "626      127.8270         127.8270\n",
       "513      731.6925         731.6925\n",
       "859      450.1035         450.1035\n",
       "136      138.1275         138.1275"
      ]
     },
     "execution_count": 406,
     "metadata": {},
     "output_type": "execute_result"
    }
   ],
   "source": [
    "li_result=pd.DataFrame({'Actual Value': y_test, 'Predicted Value': y_pred})\n",
    "li_result.head(10)"
   ]
  },
  {
   "cell_type": "code",
   "execution_count": 407,
   "id": "fc8cda07",
   "metadata": {},
   "outputs": [
    {
     "data": {
      "text/plain": [
       "<AxesSubplot:>"
      ]
     },
     "execution_count": 407,
     "metadata": {},
     "output_type": "execute_result"
    },
    {
     "data": {
      "image/png": "[encoded data removed]",
      "text/plain": [
       "<Figure size 640x480 with 1 Axes>"
      ]
     },
     "metadata": {},
     "output_type": "display_data"
    }
   ],
   "source": [
    "li_graph = li_result.head(10)\n",
    "li_graph.plot(kind='bar')"
   ]
  },
  {
   "cell_type": "markdown",
   "id": "85b5e137",
   "metadata": {},
   "source": [
    "### Random Forest"
   ]
  },
  {
   "cell_type": "code",
   "execution_count": 408,
   "id": "fe5b016e",
   "metadata": {},
   "outputs": [],
   "source": [
    " # create regressor object\n",
    "rf_model = RandomForestRegressor(n_estimators = 100, random_state = 0)\n",
    "  \n",
    "# fit the regressor with x and y data\n",
    "rf_model.fit(X_train, y_train) \n",
    "y_pred = rf_model.predict(X_test)"
   ]
  },
  {
   "cell_type": "code",
   "execution_count": 409,
   "id": "7b644a1e",
   "metadata": {},
   "outputs": [
    {
     "name": "stdout",
     "output_type": "stream",
     "text": [
      "Mean Absolute Error: 0.741085274999991\n",
      "Mean Squared Error: 1.4996001501101055\n",
      "Root Mean Squared Error: 1.2245816224776958\n",
      "r2_score: 0.9999769501528768\n"
     ]
    }
   ],
   "source": [
    "print('Mean Absolute Error:', metrics.mean_absolute_error(y_test, y_pred))\n",
    "print('Mean Squared Error:', metrics.mean_squared_error(y_test, y_pred))\n",
    "print('Root Mean Squared Error:', np.sqrt(metrics.mean_squared_error(y_test, y_pred)))\n",
    "print('r2_score:',r2_score(y_test,y_pred))"
   ]
  },
  {
   "cell_type": "code",
   "execution_count": 410,
   "id": "71bddb42",
   "metadata": {},
   "outputs": [
    {
     "data": {
      "text/html": [
       "<div>\n",
       "<style scoped>\n",
       "    .dataframe tbody tr th:only-of-type {\n",
       "        vertical-align: middle;\n",
       "    }\n",
       "\n",
       "    .dataframe tbody tr th {\n",
       "        vertical-align: top;\n",
       "    }\n",
       "\n",
       "    .dataframe thead th {\n",
       "        text-align: right;\n",
       "    }\n",
       "</style>\n",
       "<table border=\"1\" class=\"dataframe\">\n",
       "  <thead>\n",
       "    <tr style=\"text-align: right;\">\n",
       "      <th></th>\n",
       "      <th>Actual Value</th>\n",
       "      <th>Predicted Value</th>\n",
       "    </tr>\n",
       "  </thead>\n",
       "  <tbody>\n",
       "    <tr>\n",
       "      <th>521</th>\n",
       "      <td>523.9710</td>\n",
       "      <td>522.490605</td>\n",
       "    </tr>\n",
       "    <tr>\n",
       "      <th>737</th>\n",
       "      <td>616.9800</td>\n",
       "      <td>621.061875</td>\n",
       "    </tr>\n",
       "    <tr>\n",
       "      <th>740</th>\n",
       "      <td>408.7335</td>\n",
       "      <td>408.369780</td>\n",
       "    </tr>\n",
       "    <tr>\n",
       "      <th>660</th>\n",
       "      <td>135.3555</td>\n",
       "      <td>136.053960</td>\n",
       "    </tr>\n",
       "    <tr>\n",
       "      <th>411</th>\n",
       "      <td>45.9270</td>\n",
       "      <td>44.790585</td>\n",
       "    </tr>\n",
       "    <tr>\n",
       "      <th>678</th>\n",
       "      <td>618.9750</td>\n",
       "      <td>621.976425</td>\n",
       "    </tr>\n",
       "    <tr>\n",
       "      <th>626</th>\n",
       "      <td>127.8270</td>\n",
       "      <td>127.097040</td>\n",
       "    </tr>\n",
       "    <tr>\n",
       "      <th>513</th>\n",
       "      <td>731.6925</td>\n",
       "      <td>732.934755</td>\n",
       "    </tr>\n",
       "    <tr>\n",
       "      <th>859</th>\n",
       "      <td>450.1035</td>\n",
       "      <td>451.455165</td>\n",
       "    </tr>\n",
       "    <tr>\n",
       "      <th>136</th>\n",
       "      <td>138.1275</td>\n",
       "      <td>137.934720</td>\n",
       "    </tr>\n",
       "  </tbody>\n",
       "</table>\n",
       "</div>"
      ],
      "text/plain": [
       "     Actual Value  Predicted Value\n",
       "521      523.9710       522.490605\n",
       "737      616.9800       621.061875\n",
       "740      408.7335       408.369780\n",
       "660      135.3555       136.053960\n",
       "411       45.9270        44.790585\n",
       "678      618.9750       621.976425\n",
       "626      127.8270       127.097040\n",
       "513      731.6925       732.934755\n",
       "859      450.1035       451.455165\n",
       "136      138.1275       137.934720"
      ]
     },
     "execution_count": 410,
     "metadata": {},
     "output_type": "execute_result"
    }
   ],
   "source": [
    "rf_result=pd.DataFrame({'Actual Value': y_test, 'Predicted Value': y_pred})\n",
    "rf_result.head(10)"
   ]
  },
  {
   "cell_type": "markdown",
   "id": "47abe05d",
   "metadata": {},
   "source": [
    "### Support Vector Machine (SVM)"
   ]
  },
  {
   "cell_type": "code",
   "execution_count": 411,
   "id": "041a5d1a",
   "metadata": {},
   "outputs": [],
   "source": [
    "model = SVR(kernel='linear')\n",
    "\n",
    "model.fit(X_train, y_train)\n",
    "\n",
    "predictions = model.predict(X_test)"
   ]
  },
  {
   "cell_type": "code",
   "execution_count": 412,
   "id": "f623db9b",
   "metadata": {},
   "outputs": [
    {
     "name": "stdout",
     "output_type": "stream",
     "text": [
      "Mean Absolute Error: 0.741085274999991\n",
      "Mean Squared Error: 1.4996001501101055\n",
      "Root Mean Squared Error: 1.2245816224776958\n",
      "r2_score: 0.9999769501528768\n"
     ]
    }
   ],
   "source": [
    "print('Mean Absolute Error:', metrics.mean_absolute_error(y_test, y_pred))\n",
    "print('Mean Squared Error:', metrics.mean_squared_error(y_test, y_pred))\n",
    "print('Root Mean Squared Error:', np.sqrt(metrics.mean_squared_error(y_test, y_pred)))\n",
    "print('r2_score:',r2_score(y_test,y_pred))"
   ]
  },
  {
   "cell_type": "markdown",
   "id": "2deabd08",
   "metadata": {},
   "source": [
    "## K N N"
   ]
  },
  {
   "cell_type": "code",
   "execution_count": 413,
   "id": "fffcce39",
   "metadata": {},
   "outputs": [],
   "source": [
    "from sklearn.neighbors import KNeighborsRegressor\n",
    "\n",
    "knn_model = KNeighborsRegressor(n_neighbors=50)\n",
    "knn_model.fit(X_train, y_train)\n",
    "y_pred = knn_model.predict(X_test)"
   ]
  },
  {
   "cell_type": "code",
   "execution_count": 414,
   "id": "67fc3508",
   "metadata": {},
   "outputs": [
    {
     "name": "stdout",
     "output_type": "stream",
     "text": [
      "Mean Absolute Error: 85.08105900000001\n",
      "Mean Squared Error: 10585.522420250716\n",
      "Root Mean Squared Error: 102.8859680435127\n",
      "r2 score: 0.8372935122151359\n"
     ]
    }
   ],
   "source": [
    "print('Mean Absolute Error:', metrics.mean_absolute_error(y_test, y_pred))\n",
    "print('Mean Squared Error:', metrics.mean_squared_error(y_test, y_pred))\n",
    "print('Root Mean Squared Error:', np.sqrt(metrics.mean_squared_error(y_test, y_pred)))\n",
    "print('r2 score:',r2_score(y_test,y_pred))"
   ]
  },
  {
   "cell_type": "markdown",
   "id": "9dbcba2b",
   "metadata": {},
   "source": [
    "### XGBOOST"
   ]
  },
  {
   "cell_type": "code",
   "execution_count": 415,
   "id": "3ab4960f",
   "metadata": {},
   "outputs": [
    {
     "ename": "ValueError",
     "evalue": "Invalid classes inferred from unique values of `y`.  Expected: [  0   1   2   3   4   5   6   7   8   9  10  11  12  13  14  15  16  17\n  18  19  20  21  22  23  24  25  26  27  28  29  30  31  32  33  34  35\n  36  37  38  39  40  41  42  43  44  45  46  47  48  49  50  51  52  53\n  54  55  56  57  58  59  60  61  62  63  64  65  66  67  68  69  70  71\n  72  73  74  75  76  77  78  79  80  81  82  83  84  85  86  87  88  89\n  90  91  92  93  94  95  96  97  98  99 100 101 102 103 104 105 106 107\n 108 109 110 111 112 113 114 115 116 117 118 119 120 121 122 123 124 125\n 126 127 128 129 130 131 132 133 134 135 136 137 138 139 140 141 142 143\n 144 145 146 147 148 149 150 151 152 153 154 155 156 157 158 159 160 161\n 162 163 164 165 166 167 168 169 170 171 172 173 174 175 176 177 178 179\n 180 181 182 183 184 185 186 187 188 189 190 191 192 193 194 195 196 197\n 198 199 200 201 202 203 204 205 206 207 208 209 210 211 212 213 214 215\n 216 217 218 219 220 221 222 223 224 225 226 227 228 229 230 231 232 233\n 234 235 236 237 238 239 240 241 242 243 244 245 246 247 248 249 250 251\n 252 253 254 255 256 257 258 259 260 261 262 263 264 265 266 267 268 269\n 270 271 272 273 274 275 276 277 278 279 280 281 282 283 284 285 286 287\n 288 289 290 291 292 293 294 295 296 297 298 299 300 301 302 303 304 305\n 306 307 308 309 310 311 312 313 314 315 316 317 318 319 320 321 322 323\n 324 325 326 327 328 329 330 331 332 333 334 335 336 337 338 339 340 341\n 342 343 344 345 346 347 348 349 350 351 352 353 354 355 356 357 358 359\n 360 361 362 363 364 365 366 367 368 369 370 371 372 373 374 375 376 377\n 378 379 380 381 382 383 384 385 386 387 388 389 390 391 392 393 394 395\n 396 397 398 399 400 401 402 403 404 405 406 407 408 409 410 411 412 413\n 414 415 416 417 418 419 420 421 422 423 424 425 426 427 428 429 430 431\n 432 433 434 435 436 437 438 439 440 441 442 443 444 445 446 447 448 449\n 450 451 452 453 454 455 456 457 458 459 460 461 462 463 464 465 466 467\n 468 469 470 471 472 473 474 475 476 477 478 479 480 481 482 483 484 485\n 486 487 488 489 490 491 492 493 494 495 496 497 498 499 500 501 502 503\n 504 505 506 507 508 509 510 511 512 513 514 515 516 517 518 519 520 521\n 522 523 524 525 526 527 528 529 530 531 532 533 534 535 536 537 538 539\n 540 541 542 543 544 545 546 547 548 549 550 551 552 553 554 555 556 557\n 558 559 560 561 562 563 564 565 566 567 568 569 570 571 572 573 574 575\n 576 577 578 579 580 581 582 583 584 585 586 587 588 589 590 591 592 593\n 594 595 596 597 598 599 600 601 602 603 604 605 606 607 608 609 610 611\n 612 613 614 615 616 617 618 619 620 621 622 623 624 625 626 627 628 629\n 630 631 632 633 634 635 636 637 638 639 640 641 642 643 644 645 646 647\n 648 649 650 651 652 653 654 655 656 657 658 659 660 661 662 663 664 665\n 666 667 668 669 670 671 672 673 674 675 676 677 678 679 680 681 682 683\n 684 685 686 687 688 689 690 691 692 693 694 695 696 697 698 699 700 701\n 702 703 704 705 706 707 708 709 710 711 712 713 714 715 716 717 718 719\n 720 721 722 723 724 725 726 727 728 729 730 731 732 733 734 735 736 737\n 738 739 740 741 742 743 744 745 746 747 748 749 750 751 752 753 754 755\n 756 757 758 759 760 761 762 763 764 765 766 767 768 769 770 771 772 773\n 774 775 776 777 778 779 780 781 782 783 784 785 786 787 788 789 790 791\n 792], got [  12.6945   13.167    13.419    14.679    16.107    16.2015   16.275\n   17.094    18.6375   19.2465   20.685    22.386    22.659    23.499\n   23.751    24.108    25.263    26.25     26.5545   26.733    26.796\n   28.4235   30.219    30.408    31.227    31.752    31.9305   32.1405\n   32.151    32.529    33.3585   33.432    33.495    35.196    35.3115\n   36.5505   37.611    37.6845   40.341    40.9605   41.076    41.454\n   41.7375   43.869    44.352    44.9925   45.108    47.859    48.51\n   48.7305   49.308    49.4235   49.77     49.812    51.0405   51.1455\n   53.151    53.34     53.928    54.0435   54.9675   54.999    55.041\n   55.2825   55.881    56.1225   56.406    56.952    57.078    57.1725\n   57.876    58.2225   59.325    62.0025   63.315    63.9135   63.9975\n   65.7405   66.402    66.8745   68.985    69.405    69.72     69.993\n   71.1585   71.526    71.568    72.009    72.3975   72.429    72.87\n   72.933    74.088    74.4555   74.76     75.054    75.474    75.7785\n   76.146    76.356    76.5765   76.923    77.175    77.658    77.6685\n   77.7735   77.805    78.0045   78.435    78.603    78.7185   79.149\n   79.611    79.674    80.22     80.367    80.661    80.955    81.396\n   82.719    82.887    83.412    83.727    84.63     84.7455   85.113\n   85.302    85.512    85.5855   85.743    86.625    87.234    88.368\n   88.704    90.5835   90.825    90.867    91.056    91.4025   91.56\n   91.77     91.8225   92.295    92.442    92.5575   92.7255   92.8725\n   93.114    93.2925   93.744    94.1745   94.2375   95.865    95.9175\n   96.138    96.579    96.642    97.419    97.818    97.881    98.028\n   98.049    99.33     99.54     99.75     99.9075  100.128   100.485\n  100.9155  101.808   102.018   102.396   102.837   103.0365  103.11\n  103.131   103.635   103.782   103.824   104.832   106.596   106.995\n  107.142   107.31    110.0925  110.124   112.224   113.568   115.08\n  115.185   116.1405  116.907   117.831   118.062   118.902   119.259\n  120.162   120.645   121.569   121.59    121.863   122.472   122.5245\n  125.055   125.517   125.664   125.7165  125.979   128.4255  130.032\n  130.0425  131.208   132.027   132.5625  132.762   133.35    133.434\n  133.917   135.45    135.576   136.143   137.004   137.865   138.978\n  139.923   140.385   140.6475  141.75    142.947   143.22    143.9865\n  144.081   145.068   145.404   145.593   145.74    145.971   146.328\n  146.6325  146.9475  148.974   149.3625  150.0975  150.423   150.78\n  151.284   151.4835  151.515   152.019   152.712   152.775   153.048\n  154.1295  154.392   155.19    155.652   156.03    160.209   160.44\n  160.86    161.553   161.7     162.75    163.002   163.233   163.611\n  164.43    164.871   165.123   165.4485  165.648   165.9     166.1625\n  166.635   167.034   167.895   168.21    169.3125  170.877   171.7275\n  172.2105  172.494   172.746   173.208   174.615   175.035   175.0455\n  175.14    175.917   176.4     176.925   177.408   178.164   180.4005\n  180.6     180.621   181.0725  181.818   181.881   182.427   182.91\n  182.952   183.036   183.12    183.645   184.086   184.107   185.367\n  186.228   187.32    187.866   189.0945  190.4805  190.596   191.247\n  193.4625  194.124   194.985   195.174   195.258   195.678   195.72\n  195.951   196.14    197.925   198.996   200.214   202.335   202.818\n  203.112   203.175   203.553   203.931   204.246   204.6975  205.317\n  206.43    206.7975  206.808   207.48    207.585   207.858   208.089\n  208.425   208.677   208.6875  209.118   209.559   209.622   210.966\n  212.688   212.73    213.528   214.137   214.935   214.998   216.6885\n  217.182   217.2555  217.6335  218.0115  222.012   223.0725  223.587\n  224.4375  225.015   225.2775  225.792   226.065   229.11    231.2415\n  232.638   233.226   233.52    234.0975  235.2105  235.683   235.746\n  236.88    239.4     239.589   240.975   241.458   242.676   244.23\n  246.4875  246.6765  247.59    248.409   250.278   250.7085  251.7165\n  252.756   253.26    253.512   253.68    254.016   255.15    255.1815\n  256.41    256.7775  257.145   258.678   262.458   262.794   263.13\n  263.97    264.7575  265.104   266.028   266.6475  267.3405  269.535\n  270.018   270.2595  271.278   271.2885  271.95    272.58    272.664\n  273.0525  273.42    273.798   276.948   277.137   277.6725  277.788\n  279.1845  279.384   280.035   282.492   282.576   284.193   284.592\n  284.9175  285.705   287.91    288.015   288.204   288.582   289.926\n  290.43    291.207   291.438   293.202   293.643   294.651   295.6905\n  296.94    297.108   297.801   298.116   299.3655  299.565   299.8485\n  300.216   304.542   304.92    304.983   306.81    308.91    309.3615\n  310.044   310.716   311.1885  312.8895  313.572   314.055   314.538\n  314.685   316.47    317.226   317.835   318.108   319.788   321.111\n  321.7725  323.148   324.2925  325.374   326.256   326.424   328.755\n  329.196   333.207   333.9525  334.341   335.013   335.895   336.5565\n  337.512   338.2155  338.31    339.36    340.5255  341.0925  343.413\n  344.4     345.0195  345.786   348.705   350.07    351.099   351.603\n  352.2225  352.674   353.094   353.1675  354.0075  356.328   356.5485\n  357.588   359.205   360.885   360.927   362.712   362.817   362.943\n  365.085   365.904   367.038   367.5525  369.495   369.684   373.17\n  374.409   375.3645  377.58    383.523   384.468   388.29    390.7995\n  390.9465  392.6475  394.275   394.3275  394.632   397.845   397.992\n  398.475   398.958   399.756   401.268   401.688   402.2655  403.872\n  404.544   404.649   406.875   407.316   408.408   408.492   410.508\n  411.3795  415.233   417.564   418.95    419.832   420.2625  423.15\n  423.738   427.812   429.1665  431.256   432.9885  433.692   435.12\n  435.456   437.325   439.215   439.8975  440.937   441.588   441.693\n  442.323   446.439   446.964   451.0275  451.3635  451.71    452.865\n  453.495   455.1225  457.38    457.443   458.6925  461.328   462.21\n  462.672   463.89    465.444   469.413   469.77    470.673   470.988\n  471.03    472.311   474.348   477.1305  477.54    478.233   479.9025\n  480.0285  484.5225  484.89    484.974   485.037   486.444   488.985\n  489.048   491.085   493.794   497.07    499.7265  503.7375  506.6355\n  507.444   507.675   507.906   509.4075  510.9615  510.972   512.19\n  513.2295  514.605   514.773   517.965   520.4115  520.8     521.01\n  523.845   527.5095  527.751   529.515   530.67    532.728   535.374\n  535.7205  536.592   536.844   536.991   539.343   543.753   545.055\n  545.37    548.163   548.184   548.73    548.7615  548.9715  550.368\n  550.935   551.124   554.148   554.295   557.718   561.078   565.215\n  568.512   571.41    572.775   575.316   575.736   575.9775  580.419\n  586.635   586.971   588.357   590.436   596.82    597.6285  603.624\n  603.876   608.076   608.202   609.588   610.491   611.079   620.739\n  621.243   624.897   625.905   627.6165  628.173   628.929   629.16\n  629.496   629.8425  631.1445  633.99    634.3785  637.728   640.038\n  649.299   652.26    652.89    655.5465  657.531   663.2955  666.939\n  671.79    673.995   680.064   680.148   680.61    681.975   684.915\n  688.6215  688.716   690.018   695.2365  702.219   703.752   705.6315\n  708.225   708.3195  714.3255  718.7565  720.3     721.98    728.112\n  731.43    732.27    733.6035  734.076   734.706   736.4385  737.7615\n  742.812   743.82    745.395   749.49    749.7     752.64    756.168\n  759.675   760.4415  763.4655  767.025   769.104   771.435   772.38\n  781.62    782.208   783.3     786.618   793.716   794.6505  801.864\n  804.3     807.66    810.6     814.38    817.236   827.085   829.08\n  829.71    830.3715  832.944   833.595   833.9625  835.2855  843.0345\n  852.705   853.146   860.475   860.685   864.57    867.09    867.615\n  874.125   881.307   887.922   888.405   888.615   914.55    921.186\n  931.035   935.2665  936.6     937.818   942.9     944.622   950.25\n 1002.12   1003.59   1020.705  1022.385  1022.49   1023.75   1034.46\n 1039.29   1042.65  ]",
     "output_type": "error",
     "traceback": [
      "\u001b[0;31m---------------------------------------------------------------------------\u001b[0m",
      "\u001b[0;31mValueError\u001b[0m                                Traceback (most recent call last)",
      "\u001b[0;32m/var/folders/n1/bp929_sx74q65yzn_wfsq_pc0000gn/T/ipykernel_952/1444017099.py\u001b[0m in \u001b[0;36m<module>\u001b[0;34m\u001b[0m\n\u001b[1;32m      2\u001b[0m \u001b[0;34m\u001b[0m\u001b[0m\n\u001b[1;32m      3\u001b[0m \u001b[0mxgb\u001b[0m \u001b[0;34m=\u001b[0m \u001b[0mxgb\u001b[0m\u001b[0;34m.\u001b[0m\u001b[0mXGBClassifier\u001b[0m\u001b[0;34m(\u001b[0m\u001b[0mobjective\u001b[0m\u001b[0;34m=\u001b[0m\u001b[0;34m\"binary:logistic\"\u001b[0m\u001b[0;34m,\u001b[0m \u001b[0mrandom_state\u001b[0m\u001b[0;34m=\u001b[0m\u001b[0;36m42\u001b[0m\u001b[0;34m)\u001b[0m\u001b[0;34m\u001b[0m\u001b[0;34m\u001b[0m\u001b[0m\n\u001b[0;32m----> 4\u001b[0;31m \u001b[0mxgb\u001b[0m\u001b[0;34m.\u001b[0m\u001b[0mfit\u001b[0m\u001b[0;34m(\u001b[0m\u001b[0mX_train\u001b[0m\u001b[0;34m,\u001b[0m \u001b[0my_train\u001b[0m\u001b[0;34m)\u001b[0m\u001b[0;34m\u001b[0m\u001b[0;34m\u001b[0m\u001b[0m\n\u001b[0m\u001b[1;32m      5\u001b[0m \u001b[0my_pred\u001b[0m \u001b[0;34m=\u001b[0m \u001b[0mxgb\u001b[0m\u001b[0;34m.\u001b[0m\u001b[0mpredict\u001b[0m\u001b[0;34m(\u001b[0m\u001b[0mX_test\u001b[0m\u001b[0;34m)\u001b[0m\u001b[0;34m\u001b[0m\u001b[0;34m\u001b[0m\u001b[0m\n\u001b[1;32m      6\u001b[0m \u001b[0;34m\u001b[0m\u001b[0m\n",
      "\u001b[0;32m~/opt/anaconda3/lib/python3.9/site-packages/xgboost/core.py\u001b[0m in \u001b[0;36minner_f\u001b[0;34m(*args, **kwargs)\u001b[0m\n\u001b[1;32m    728\u001b[0m             \u001b[0;32mfor\u001b[0m \u001b[0mk\u001b[0m\u001b[0;34m,\u001b[0m \u001b[0marg\u001b[0m \u001b[0;32min\u001b[0m \u001b[0mzip\u001b[0m\u001b[0;34m(\u001b[0m\u001b[0msig\u001b[0m\u001b[0;34m.\u001b[0m\u001b[0mparameters\u001b[0m\u001b[0;34m,\u001b[0m \u001b[0margs\u001b[0m\u001b[0;34m)\u001b[0m\u001b[0;34m:\u001b[0m\u001b[0;34m\u001b[0m\u001b[0;34m\u001b[0m\u001b[0m\n\u001b[1;32m    729\u001b[0m                 \u001b[0mkwargs\u001b[0m\u001b[0;34m[\u001b[0m\u001b[0mk\u001b[0m\u001b[0;34m]\u001b[0m \u001b[0;34m=\u001b[0m \u001b[0marg\u001b[0m\u001b[0;34m\u001b[0m\u001b[0;34m\u001b[0m\u001b[0m\n\u001b[0;32m--> 730\u001b[0;31m             \u001b[0;32mreturn\u001b[0m \u001b[0mfunc\u001b[0m\u001b[0;34m(\u001b[0m\u001b[0;34m**\u001b[0m\u001b[0mkwargs\u001b[0m\u001b[0;34m)\u001b[0m\u001b[0;34m\u001b[0m\u001b[0;34m\u001b[0m\u001b[0m\n\u001b[0m\u001b[1;32m    731\u001b[0m \u001b[0;34m\u001b[0m\u001b[0m\n\u001b[1;32m    732\u001b[0m         \u001b[0;32mreturn\u001b[0m \u001b[0minner_f\u001b[0m\u001b[0;34m\u001b[0m\u001b[0;34m\u001b[0m\u001b[0m\n",
      "\u001b[0;32m~/opt/anaconda3/lib/python3.9/site-packages/xgboost/sklearn.py\u001b[0m in \u001b[0;36mfit\u001b[0;34m(self, X, y, sample_weight, base_margin, eval_set, eval_metric, early_stopping_rounds, verbose, xgb_model, sample_weight_eval_set, base_margin_eval_set, feature_weights, callbacks)\u001b[0m\n\u001b[1;32m   1469\u001b[0m                 \u001b[0;32mor\u001b[0m \u001b[0;32mnot\u001b[0m \u001b[0;34m(\u001b[0m\u001b[0mclasses\u001b[0m \u001b[0;34m==\u001b[0m \u001b[0mexpected_classes\u001b[0m\u001b[0;34m)\u001b[0m\u001b[0;34m.\u001b[0m\u001b[0mall\u001b[0m\u001b[0;34m(\u001b[0m\u001b[0;34m)\u001b[0m\u001b[0;34m\u001b[0m\u001b[0;34m\u001b[0m\u001b[0m\n\u001b[1;32m   1470\u001b[0m             ):\n\u001b[0;32m-> 1471\u001b[0;31m                 raise ValueError(\n\u001b[0m\u001b[1;32m   1472\u001b[0m                     \u001b[0;34mf\"Invalid classes inferred from unique values of `y`.  \"\u001b[0m\u001b[0;34m\u001b[0m\u001b[0;34m\u001b[0m\u001b[0m\n\u001b[1;32m   1473\u001b[0m                     \u001b[0;34mf\"Expected: {expected_classes}, got {classes}\"\u001b[0m\u001b[0;34m\u001b[0m\u001b[0;34m\u001b[0m\u001b[0m\n",
      "\u001b[0;31mValueError\u001b[0m: Invalid classes inferred from unique values of `y`.  Expected: [  0   1   2   3   4   5   6   7   8   9  10  11  12  13  14  15  16  17\n  18  19  20  21  22  23  24  25  26  27  28  29  30  31  32  33  34  35\n  36  37  38  39  40  41  42  43  44  45  46  47  48  49  50  51  52  53\n  54  55  56  57  58  59  60  61  62  63  64  65  66  67  68  69  70  71\n  72  73  74  75  76  77  78  79  80  81  82  83  84  85  86  87  88  89\n  90  91  92  93  94  95  96  97  98  99 100 101 102 103 104 105 106 107\n 108 109 110 111 112 113 114 115 116 117 118 119 120 121 122 123 124 125\n 126 127 128 129 130 131 132 133 134 135 136 137 138 139 140 141 142 143\n 144 145 146 147 148 149 150 151 152 153 154 155 156 157 158 159 160 161\n 162 163 164 165 166 167 168 169 170 171 172 173 174 175 176 177 178 179\n 180 181 182 183 184 185 186 187 188 189 190 191 192 193 194 195 196 197\n 198 199 200 201 202 203 204 205 206 207 208 209 210 211 212 213 214 215\n 216 217 218 219 220 221 222 223 224 225 226 227 228 229 230 231 232 233\n 234 235 236 237 238 239 240 241 242 243 244 245 246 247 248 249 250 251\n 252 253 254 255 256 257 258 259 260 261 262 263 264 265 266 267 268 269\n 270 271 272 273 274 275 276 277 278 279 280 281 282 283 284 285 286 287\n 288 289 290 291 292 293 294 295 296 297 298 299 300 301 302 303 304 305\n 306 307 308 309 310 311 312 313 314 315 316 317 318 319 320 321 322 323\n 324 325 326 327 328 329 330 331 332 333 334 335 336 337 338 339 340 341\n 342 343 344 345 346 347 348 349 350 351 352 353 354 355 356 357 358 359\n 360 361 362 363 364 365 366 367 368 369 370 371 372 373 374 375 376 377\n 378 379 380 381 382 383 384 385 386 387 388 389 390 391 392 393 394 395\n 396 397 398 399 400 401 402 403 404 405 406 407 408 409 410 411 412 413\n 414 415 416 417 418 419 420 421 422 423 424 425 426 427 428 429 430 431\n 432 433 434 435 436 437 438 439 440 441 442 443 444 445 446 447 448 449\n 450 451 452 453 454 455 456 457 458 459 460 461 462 463 464 465 466 467\n 468 469 470 471 472 473 474 475 476 477 478 479 480 481 482 483 484 485\n 486 487 488 489 490 491 492 493 494 495 496 497 498 499 500 501 502 503\n 504 505 506 507 508 509 510 511 512 513 514 515 516 517 518 519 520 521\n 522 523 524 525 526 527 528 529 530 531 532 533 534 535 536 537 538 539\n 540 541 542 543 544 545 546 547 548 549 550 551 552 553 554 555 556 557\n 558 559 560 561 562 563 564 565 566 567 568 569 570 571 572 573 574 575\n 576 577 578 579 580 581 582 583 584 585 586 587 588 589 590 591 592 593\n 594 595 596 597 598 599 600 601 602 603 604 605 606 607 608 609 610 611\n 612 613 614 615 616 617 618 619 620 621 622 623 624 625 626 627 628 629\n 630 631 632 633 634 635 636 637 638 639 640 641 642 643 644 645 646 647\n 648 649 650 651 652 653 654 655 656 657 658 659 660 661 662 663 664 665\n 666 667 668 669 670 671 672 673 674 675 676 677 678 679 680 681 682 683\n 684 685 686 687 688 689 690 691 692 693 694 695 696 697 698 699 700 701\n 702 703 704 705 706 707 708 709 710 711 712 713 714 715 716 717 718 719\n 720 721 722 723 724 725 726 727 728 729 730 731 732 733 734 735 736 737\n 738 739 740 741 742 743 744 745 746 747 748 749 750 751 752 753 754 755\n 756 757 758 759 760 761 762 763 764 765 766 767 768 769 770 771 772 773\n 774 775 776 777 778 779 780 781 782 783 784 785 786 787 788 789 790 791\n 792], got [  12.6945   13.167    13.419    14.679    16.107    16.2015   16.275\n   17.094    18.6375   19.2465   20.685    22.386    22.659    23.499\n   23.751    24.108    25.263    26.25     26.5545   26.733    26.796\n   28.4235   30.219    30.408    31.227    31.752    31.9305   32.1405\n   32.151    32.529    33.3585   33.432    33.495    35.196    35.3115\n   36.5505   37.611    37.6845   40.341    40.9605   41.076    41.454\n   41.7375   43.869    44.352    44.9925   45.108    47.859    48.51\n   48.7305   49.308    49.4235   49.77     49.812    51.0405   51.1455\n   53.151    53.34     53.928    54.0435   54.9675   54.999    55.041\n   55.2825   55.881    56.1225   56.406    56.952    57.078    57.1725\n   57.876    58.2225   59.325    62.0025   63.315    63.9135   63.9975\n   65.7405   66.402    66.8745   68.985    69.405    69.72     69.993\n   71.1585   71.526    71.568    72.009    72.3975   72.429    72.87\n   72.933    74.088    74.4555   74.76     75.054    75.474    75.7785\n   76.146    76.356    76.5765   76.923    77.175    77.658    77.6685\n   77.7735   77.805    78.0045   78.435    78.603    78.7185   79.149\n   79.611    79.674    80.22     80.367    80.661    80.955    81.396\n   82.719    82.887    83.412    83.727    84.63     84.7455   85.113\n   85.302    85.512    85.5855   85.743    86.625    87.234    88.368\n   88.704    90.5835   90.825    90.867    91.056    91.4025   91.56\n   91.77     91.8225   92.295    92.442    92.5575   92.7255   92.8725\n   93.114    93.2925   93.744    94.1745   94.2375   95.865    95.9175\n   96.138    96.579    96.642    97.419    97.818    97.881    98.028\n   98.049    99.33     99.54     99.75     99.9075  100.128   100.485\n  100.9155  101.808   102.018   102.396   102.837   103.0365  103.11\n  103.131   103.635   103.782   103.824   104.832   106.596   106.995\n  107.142   107.31    110.0925  110.124   112.224   113.568   115.08\n  115.185   116.1405  116.907   117.831   118.062   118.902   119.259\n  120.162   120.645   121.569   121.59    121.863   122.472   122.5245\n  125.055   125.517   125.664   125.7165  125.979   128.4255  130.032\n  130.0425  131.208   132.027   132.5625  132.762   133.35    133.434\n  133.917   135.45    135.576   136.143   137.004   137.865   138.978\n  139.923   140.385   140.6475  141.75    142.947   143.22    143.9865\n  144.081   145.068   145.404   145.593   145.74    145.971   146.328\n  146.6325  146.9475  148.974   149.3625  150.0975  150.423   150.78\n  151.284   151.4835  151.515   152.019   152.712   152.775   153.048\n  154.1295  154.392   155.19    155.652   156.03    160.209   160.44\n  160.86    161.553   161.7     162.75    163.002   163.233   163.611\n  164.43    164.871   165.123   165.4485  165.648   165.9     166.1625\n  166.635   167.034   167.895   168.21    169.3125  170.877   171.7275\n  172.2105  172.494   172.746   173.208   174.615   175.035   175.0455\n  175.14    175.917   176.4     176.925   177.408   178.164   180.4005\n  180.6     180.621   181.0725  181.818   181.881   182.427   182.91\n  182.952   183.036   183.12    183.645   184.086   184.107   185.367\n  186.228   187.32    187.866   189.0945  190.4805  190.596   191.247\n  193.4625  194.124   194.985   195.174   195.258   195.678   195.72\n  195.951   196.14    197.925   198.996   200.214   202.335   202.818\n  203.112   203.175   203.553   203.931   204.246   204.6975  205.317\n  206.43    206.7975  206.808   207.48    207.585   207.858   208.089\n  208.425   208.677   208.6875  209.118   209.559   209.622   210.966\n  212.688   212.73    213.528   214.137   214.935   214.998   216.6885\n  217.182   217.2555  217.6335  218.0115  222.012   223.0725  223.587\n  224.4375  225.015   225.2775  225.792   226.065   229.11    231.2415\n  232.638   233.226   233.52    234.0975  235.2105  235.683   235.746\n  236.88    239.4     239.589   240.975   241.458   242.676   244.23\n  246.4875  246.6765  247.59    248.409   250.278   250.7085  251.7165\n  252.756   253.26    253.512   253.68    254.016   255.15    255.1815\n  256.41    256.7775  257.145   258.678   262.458   262.794   263.13\n  263.97    264.7575  265.104   266.028   266.6475  267.3405  269.535\n  270.018   270.2595  271.278   271.2885  271.95    272.58    272.664\n  273.0525  273.42    273.798   276.948   277.137   277.6725  277.788\n  279.1845  279.384   280.035   282.492   282.576   284.193   284.592\n  284.9175  285.705   287.91    288.015   288.204   288.582   289.926\n  290.43    291.207   291.438   293.202   293.643   294.651   295.6905\n  296.94    297.108   297.801   298.116   299.3655  299.565   299.8485\n  300.216   304.542   304.92    304.983   306.81    308.91    309.3615\n  310.044   310.716   311.1885  312.8895  313.572   314.055   314.538\n  314.685   316.47    317.226   317.835   318.108   319.788   321.111\n  321.7725  323.148   324.2925  325.374   326.256   326.424   328.755\n  329.196   333.207   333.9525  334.341   335.013   335.895   336.5565\n  337.512   338.2155  338.31    339.36    340.5255  341.0925  343.413\n  344.4     345.0195  345.786   348.705   350.07    351.099   351.603\n  352.2225  352.674   353.094   353.1675  354.0075  356.328   356.5485\n  357.588   359.205   360.885   360.927   362.712   362.817   362.943\n  365.085   365.904   367.038   367.5525  369.495   369.684   373.17\n  374.409   375.3645  377.58    383.523   384.468   388.29    390.7995\n  390.9465  392.6475  394.275   394.3275  394.632   397.845   397.992\n  398.475   398.958   399.756   401.268   401.688   402.2655  403.872\n  404.544   404.649   406.875   407.316   408.408   408.492   410.508\n  411.3795  415.233   417.564   418.95    419.832   420.2625  423.15\n  423.738   427.812   429.1665  431.256   432.9885  433.692   435.12\n  435.456   437.325   439.215   439.8975  440.937   441.588   441.693\n  442.323   446.439   446.964   451.0275  451.3635  451.71    452.865\n  453.495   455.1225  457.38    457.443   458.6925  461.328   462.21\n  462.672   463.89    465.444   469.413   469.77    470.673   470.988\n  471.03    472.311   474.348   477.1305  477.54    478.233   479.9025\n  480.0285  484.5225  484.89    484.974   485.037   486.444   488.985\n  489.048   491.085   493.794   497.07    499.7265  503.7375  506.6355\n  507.444   507.675   507.906   509.4075  510.9615  510.972   512.19\n  513.2295  514.605   514.773   517.965   520.4115  520.8     521.01\n  523.845   527.5095  527.751   529.515   530.67    532.728   535.374\n  535.7205  536.592   536.844   536.991   539.343   543.753   545.055\n  545.37    548.163   548.184   548.73    548.7615  548.9715  550.368\n  550.935   551.124   554.148   554.295   557.718   561.078   565.215\n  568.512   571.41    572.775   575.316   575.736   575.9775  580.419\n  586.635   586.971   588.357   590.436   596.82    597.6285  603.624\n  603.876   608.076   608.202   609.588   610.491   611.079   620.739\n  621.243   624.897   625.905   627.6165  628.173   628.929   629.16\n  629.496   629.8425  631.1445  633.99    634.3785  637.728   640.038\n  649.299   652.26    652.89    655.5465  657.531   663.2955  666.939\n  671.79    673.995   680.064   680.148   680.61    681.975   684.915\n  688.6215  688.716   690.018   695.2365  702.219   703.752   705.6315\n  708.225   708.3195  714.3255  718.7565  720.3     721.98    728.112\n  731.43    732.27    733.6035  734.076   734.706   736.4385  737.7615\n  742.812   743.82    745.395   749.49    749.7     752.64    756.168\n  759.675   760.4415  763.4655  767.025   769.104   771.435   772.38\n  781.62    782.208   783.3     786.618   793.716   794.6505  801.864\n  804.3     807.66    810.6     814.38    817.236   827.085   829.08\n  829.71    830.3715  832.944   833.595   833.9625  835.2855  843.0345\n  852.705   853.146   860.475   860.685   864.57    867.09    867.615\n  874.125   881.307   887.922   888.405   888.615   914.55    921.186\n  931.035   935.2665  936.6     937.818   942.9     944.622   950.25\n 1002.12   1003.59   1020.705  1022.385  1022.49   1023.75   1034.46\n 1039.29   1042.65  ]"
     ]
    }
   ],
   "source": [
    "from xgboost import XGBClassifier\n",
    "\n",
    "xgb = xgb.XGBClassifier(objective=\"binary:logistic\", random_state=42)\n",
    "xgb.fit(X_train, y_train)\n",
    "y_pred = xgb.predict(X_test)\n",
    "\n"
   ]
  },
  {
   "cell_type": "code",
   "execution_count": 416,
   "id": "dab10718",
   "metadata": {},
   "outputs": [
    {
     "name": "stdout",
     "output_type": "stream",
     "text": [
      "Mean Absolute Error: 85.08105900000001\n",
      "Mean Squared Error: 10585.522420250716\n",
      "Root Mean Squared Error: 102.8859680435127\n",
      "r2 score: 0.8372935122151359\n"
     ]
    }
   ],
   "source": [
    "print('Mean Absolute Error:', metrics.mean_absolute_error(y_test, y_pred))\n",
    "print('Mean Squared Error:', metrics.mean_squared_error(y_test, y_pred))\n",
    "print('Root Mean Squared Error:', np.sqrt(metrics.mean_squared_error(y_test, y_pred)))\n",
    "print('r2 score:',r2_score(y_test,y_pred))"
   ]
  },
  {
   "cell_type": "code",
   "execution_count": null,
   "id": "bf2430ec",
   "metadata": {},
   "outputs": [],
   "source": []
  }
 ],
 "metadata": {
  "kernelspec": {
   "display_name": "Python 3 (ipykernel)",
   "language": "python",
   "name": "python3"
  },
  "language_info": {
   "codemirror_mode": {
    "name": "ipython",
    "version": 3
   },
   "file_extension": ".py",
   "mimetype": "text/x-python",
   "name": "python",
   "nbconvert_exporter": "python",
   "pygments_lexer": "ipython3",
   "version": "3.9.13"
  }
 },
 "nbformat": 4,
 "nbformat_minor": 5
}
